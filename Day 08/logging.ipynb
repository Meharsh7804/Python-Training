{
 "cells": [
  {
   "cell_type": "code",
   "execution_count": 1,
   "id": "7dc9b2cd",
   "metadata": {},
   "outputs": [
    {
     "name": "stderr",
     "output_type": "stream",
     "text": [
      "INFO:root:App Started\n",
      "INFO:root:This is an info message from my_logger\n"
     ]
    },
    {
     "name": "stdout",
     "output_type": "stream",
     "text": [
      "0 20 50\n"
     ]
    }
   ],
   "source": [
    "import logging\n",
    "logging.basicConfig(level=logging.INFO)\n",
    "logging.info(\"App Started\")\n",
    "\n",
    "logger = logging.getLogger(\"my_logger\")\n",
    "logger.setLevel(logging.INFO)\n",
    "logging.info(\"This is an info message from my_logger\")\n",
    "logger.debug(\"This is a debug message from my_logger\")\n",
    "print(logging.NOTSET, logging.INFO, logging.CRITICAL)"
   ]
  },
  {
   "cell_type": "code",
   "execution_count": 2,
   "id": "3178e391",
   "metadata": {},
   "outputs": [
    {
     "name": "stderr",
     "output_type": "stream",
     "text": [
      "Info message passed to the handler\n",
      "INFO:my_logger:Info message passed to the handler\n",
      "Critical message passed to the handler\n",
      "CRITICAL:my_logger:Critical message passed to the handler\n",
      "Error message passed to the handler\n",
      "ERROR:my_logger:Error message passed to the handler\n"
     ]
    }
   ],
   "source": [
    "import logging\n",
    "logger = logging.getLogger(\"my_logger\")\n",
    "logger.setLevel(logging.INFO)\n",
    "\n",
    "stream_handler = logging.StreamHandler()\n",
    "logger.addHandler(stream_handler)\n",
    "\n",
    "dev_file_handler = logging.FileHandler(\"app_dev.log\")\n",
    "logger.addHandler(dev_file_handler)\n",
    "\n",
    "test_file_handler = logging.FileHandler(\"app_test.log\")\n",
    "logger.addHandler(test_file_handler)\n",
    "\n",
    "logger.info(\"Info message passed to the handler\")\n",
    "logger.critical(\"Critical message passed to the handler\")\n",
    "logger.error(\"Error message passed to the handler\")\n",
    "logger.debug(\"Debug message passed to the handler\")"
   ]
  },
  {
   "cell_type": "code",
   "execution_count": 3,
   "id": "1fa45af9",
   "metadata": {},
   "outputs": [
    {
     "name": "stderr",
     "output_type": "stream",
     "text": [
      "Info message passed to the handlers.\n",
      "This is a critical message.\n"
     ]
    }
   ],
   "source": [
    "import logging\n",
    "logger = logging.getLogger(\"mylogger\")\n",
    "logger.setLevel(logging.INFO)\n",
    "logger.propagate = False\n",
    "\n",
    "\n",
    "# Remove all existing handlers\n",
    "if logger.hasHandlers():\n",
    "    logger.handlers.clear()\n",
    "\n",
    "\n",
    "stream_handler = logging.StreamHandler()\n",
    "logger.addHandler(stream_handler)\n",
    "\n",
    "\n",
    "file_handler = logging.FileHandler(\"app.log\")\n",
    "file_handler.setLevel(logging.CRITICAL)\n",
    "logger.addHandler(file_handler)\n",
    "\n",
    "\n",
    "logger.info(\"Info message passed to the handlers.\")\n",
    "logger.critical(\"This is a critical message.\")\n",
    "logging.shutdown()\n"
   ]
  },
  {
   "cell_type": "code",
   "execution_count": 6,
   "id": "5d2613be",
   "metadata": {},
   "outputs": [
    {
     "name": "stderr",
     "output_type": "stream",
     "text": [
      "INFO:my_logger:Application started\n"
     ]
    }
   ],
   "source": [
    "# Formatter and Logging to a file with rotation\n",
    "import logging\n",
    "from logging.handlers import RotatingFileHandler\n",
    "\n",
    "\n",
    "logger = logging.getLogger(\"my_logger\")\n",
    "logger.setLevel(logging.INFO)\n",
    "# Remove all existing handlers\n",
    "if logger.hasHandlers():\n",
    "    logger.handlers.clear()\n",
    "\n",
    "\n",
    "handler = RotatingFileHandler(\"app.log\", maxBytes=200, backupCount=3)\n",
    "formatter = logging.Formatter('%(asctime)s - %(name)s - %(levelname)s - %(message)s')\n",
    "handler.setFormatter(formatter)\n",
    "logger.addHandler(handler)\n",
    "\n",
    "\n",
    "logger.info(\"Application started\")\n",
    "logging.shutdown() # ensures the close/release of all the file handlers"
   ]
  }
 ],
 "metadata": {
  "kernelspec": {
   "display_name": "venv",
   "language": "python",
   "name": "python3"
  },
  "language_info": {
   "codemirror_mode": {
    "name": "ipython",
    "version": 3
   },
   "file_extension": ".py",
   "mimetype": "text/x-python",
   "name": "python",
   "nbconvert_exporter": "python",
   "pygments_lexer": "ipython3",
   "version": "3.12.7"
  }
 },
 "nbformat": 4,
 "nbformat_minor": 5
}
