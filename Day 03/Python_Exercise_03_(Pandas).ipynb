{
  "nbformat": 4,
  "nbformat_minor": 0,
  "metadata": {
    "colab": {
      "provenance": []
    },
    "kernelspec": {
      "name": "python3",
      "display_name": "Python 3"
    },
    "language_info": {
      "name": "python"
    }
  },
  "cells": [
    {
      "cell_type": "markdown",
      "source": [
        "Name : Meharsh Chandure <br>\n",
        "Roll No : A-36"
      ],
      "metadata": {
        "id": "8yzoju-vDJEP"
      }
    },
    {
      "cell_type": "code",
      "execution_count": null,
      "metadata": {
        "id": "QS3Cm2wi4qOL"
      },
      "outputs": [],
      "source": [
        "import pandas as pd\n",
        "import numpy as np"
      ]
    },
    {
      "cell_type": "code",
      "source": [
        "print(\"--- Intermediate Pandas Exercise ---\")\n",
        "print(\"Complete each task by writing the requested Pandas code.\")\n",
        "print(\"------------------------------------\")\n",
        "\n",
        "# Task 1: Basic Pandas Functions and Converting Arrays to DataFrames\n",
        "print(\"\\n--- Task 1: Basic Pandas Functions and Converting Arrays to DataFrames ---\")\n",
        "# 1.1 Create a Pandas Series named 's1_1' from a list of numbers [10, 20, 30, 40, 50].\n",
        "# 1.2 Create a 3x4 NumPy array named 'np_array1_2' with random integers between 1 and 100.\n",
        "# 1.3 Convert 'np_array1_2' into a Pandas DataFrame named 'df1_3' with columns 'A', 'B', 'C', 'D'.\n",
        "\n",
        "# Your code for Task 1 here:\n",
        "s1_1 = pd.Series([10, 20, 30, 40, 50])\n",
        "np_array1_2 = np.random.randint(1, 101, size=(3, 4))\n",
        "df1_3 = pd.DataFrame(np_array1_2, columns=['A', 'B', 'C', 'D'])\n",
        "\n",
        "print(\"s1_1:\")\n",
        "print(s1_1)\n",
        "print(\"\\nnp_array1_2:\")\n",
        "print(np_array1_2)\n",
        "print(\"\\ndf1_3:\")\n",
        "print(df1_3)"
      ],
      "metadata": {
        "colab": {
          "base_uri": "https://localhost:8080/"
        },
        "id": "ulCukb_h4xsU",
        "outputId": "89cd5015-4a93-4293-bb6e-cac0b5e1ecf1"
      },
      "execution_count": null,
      "outputs": [
        {
          "output_type": "stream",
          "name": "stdout",
          "text": [
            "--- Intermediate Pandas Exercise ---\n",
            "Complete each task by writing the requested Pandas code.\n",
            "------------------------------------\n",
            "\n",
            "--- Task 1: Basic Pandas Functions and Converting Arrays to DataFrames ---\n",
            "s1_1:\n",
            "0    10\n",
            "1    20\n",
            "2    30\n",
            "3    40\n",
            "4    50\n",
            "dtype: int64\n",
            "\n",
            "np_array1_2:\n",
            "[[78 40 43 74]\n",
            " [57 40 56 11]\n",
            " [19 45 51 44]]\n",
            "\n",
            "df1_3:\n",
            "    A   B   C   D\n",
            "0  78  40  43  74\n",
            "1  57  40  56  11\n",
            "2  19  45  51  44\n"
          ]
        }
      ]
    },
    {
      "cell_type": "code",
      "source": [
        "# Task 2: Synthetic Data Generation for Practice\n",
        "print(\"\\n--- Task 2: Synthetic Data Generation for Practice ---\")\n",
        "# Create a DataFrame named 'df_sales' with 100 rows and the following columns:\n",
        "# - 'Date': A range of dates from '2023-01-01' to '2023-04-09' (inclusive).\n",
        "# - 'Region': Randomly chosen from ['East', 'West', 'North', 'South'].\n",
        "# - 'Product': Randomly chosen from ['Laptop', 'Mouse', 'Keyboard', 'Monitor'].\n",
        "# - 'Sales': Random integers between 100 and 1000.\n",
        "# - 'Quantity': Random integers between 1 and 10.\n",
        "# - Introduce 5 random NaN values in the 'Sales' column and 3 random NaN values in the 'Quantity' column.\n",
        "\n",
        "# Your code for Task 2 here:\n",
        "dates = pd.date_range(start='2023-01-01', periods=100)\n",
        "np.random.seed(42)\n",
        "regions = np.random.choice(['East', 'West', 'North', 'South'], size=100)\n",
        "products = np.random.choice(['Laptop', 'Mouse', 'Keyboard', 'Monitor'], size=100)\n",
        "sales = np.random.randint(100, 1001, size=100)\n",
        "quantity = np.random.randint(1, 11, size=100)\n",
        "df_sales = pd.DataFrame({\n",
        "    'Date': dates,\n",
        "    'Region': regions,\n",
        "    'Product': products,\n",
        "    'Sales': sales,\n",
        "    'Quantity': quantity\n",
        "})\n",
        "nan_sales_indices = np.random.choice(df_sales.index, size=5, replace=False)\n",
        "df_sales.loc[nan_sales_indices, 'Sales'] = np.nan\n",
        "\n",
        "nan_quantity_indices = np.random.choice(df_sales.index.difference(nan_sales_indices), size=3, replace=False)\n",
        "df_sales.loc[nan_quantity_indices, 'Quantity'] = np.nan\n",
        "print(df_sales.head())"
      ],
      "metadata": {
        "colab": {
          "base_uri": "https://localhost:8080/"
        },
        "id": "hpKmbTOm43sG",
        "outputId": "3130ea99-d28e-4f7a-a04c-7d4e75dccbd7"
      },
      "execution_count": null,
      "outputs": [
        {
          "output_type": "stream",
          "name": "stdout",
          "text": [
            "\n",
            "--- Task 2: Synthetic Data Generation for Practice ---\n",
            "        Date Region   Product  Sales  Quantity\n",
            "0 2023-01-01  North  Keyboard  674.0       7.0\n",
            "1 2023-01-02  South     Mouse  963.0       4.0\n",
            "2 2023-01-03   East     Mouse    NaN       7.0\n",
            "3 2023-01-04  North   Monitor  340.0       8.0\n",
            "4 2023-01-05  North     Mouse  663.0       1.0\n"
          ]
        }
      ]
    },
    {
      "cell_type": "code",
      "source": [
        "# Task 3: Indexing and Slicing in DataFrames\n",
        "print(\"\\n--- Task 3: Indexing and Slicing in DataFrames ---\")\n",
        "# Use 'df_sales' from Task 2.\n",
        "# 3.1 Select only the 'Region' and 'Sales' columns. Store it in 'df3_1'.\n",
        "# 3.2 Select rows where 'Product' is 'Laptop'. Store it in 'df3_2'.\n",
        "# 3.3 Select rows where 'Region' is 'East' AND 'Sales' are greater than 500. Store it in 'df3_3'.\n",
        "# 3.4 Select the 'Sales' value for the first entry where 'Product' is 'Monitor' (use .loc and .iloc). Store it in 'val3_4'.\n",
        "\n",
        "df3_1 = df_sales[['Region', 'Sales']]\n",
        "df3_2 = df_sales[df_sales['Product'] == 'Laptop']\n",
        "df3_3 = df_sales[(df_sales['Region'] == 'East') & (df_sales['Sales'] > 500)]\n",
        "val3_4 = df_sales.loc[df_sales['Product'] == 'Monitor', 'Sales'].iloc[0]\n",
        "\n",
        "print(\"df3_1:\")\n",
        "print(df3_1)\n",
        "print(\"\\ndf3_2:\")\n",
        "print(df3_2)\n",
        "print(\"\\ndf3_3:\")\n",
        "print(df3_3)"
      ],
      "metadata": {
        "colab": {
          "base_uri": "https://localhost:8080/"
        },
        "id": "STEm5GbI52wa",
        "outputId": "f2972ef5-16c5-48b5-b051-2e77803cde16"
      },
      "execution_count": null,
      "outputs": [
        {
          "output_type": "stream",
          "name": "stdout",
          "text": [
            "\n",
            "--- Task 3: Indexing and Slicing in DataFrames ---\n",
            "df3_1:\n",
            "   Region  Sales\n",
            "0   North  674.0\n",
            "1   South  963.0\n",
            "2    East    NaN\n",
            "3   North  340.0\n",
            "4   North  663.0\n",
            "..    ...    ...\n",
            "95   West  152.0\n",
            "96   West  783.0\n",
            "97  South  829.0\n",
            "98   West  771.0\n",
            "99   East  809.0\n",
            "\n",
            "[100 rows x 2 columns]\n",
            "\n",
            "df3_2:\n",
            "         Date Region Product  Sales  Quantity\n",
            "16 2023-01-17  South  Laptop  624.0       4.0\n",
            "19 2023-01-20  North  Laptop  798.0      10.0\n",
            "21 2023-01-22   East  Laptop  185.0       3.0\n",
            "24 2023-01-25  South  Laptop  781.0       4.0\n",
            "27 2023-01-28   West  Laptop  745.0       8.0\n",
            "31 2023-02-01   East  Laptop  655.0       1.0\n",
            "32 2023-02-02  South  Laptop  439.0       9.0\n",
            "33 2023-02-03   West  Laptop  897.0       9.0\n",
            "35 2023-02-05   East  Laptop  739.0       7.0\n",
            "36 2023-02-06  South  Laptop  605.0      10.0\n",
            "37 2023-02-07   East  Laptop  447.0       3.0\n",
            "39 2023-02-09  North  Laptop  330.0      10.0\n",
            "41 2023-02-11  North  Laptop  324.0       4.0\n",
            "48 2023-02-18   West  Laptop  358.0       9.0\n",
            "52 2023-02-22  North  Laptop  510.0       3.0\n",
            "54 2023-02-24  North  Laptop    NaN       8.0\n",
            "58 2023-02-28  North  Laptop  333.0       8.0\n",
            "61 2023-03-03  North  Laptop  926.0       8.0\n",
            "65 2023-03-07   West  Laptop  571.0       4.0\n",
            "71 2023-03-13   West  Laptop  541.0       2.0\n",
            "78 2023-03-20  North  Laptop  212.0       NaN\n",
            "80 2023-03-22  North  Laptop  724.0       5.0\n",
            "84 2023-03-26  North  Laptop  101.0       7.0\n",
            "85 2023-03-27  North  Laptop  741.0       3.0\n",
            "92 2023-04-03   West  Laptop  502.0       6.0\n",
            "98 2023-04-09   West  Laptop  771.0       5.0\n",
            "\n",
            "df3_3:\n",
            "         Date Region   Product  Sales  Quantity\n",
            "6  2023-01-07   East     Mouse  999.0       NaN\n",
            "7  2023-01-08   East   Monitor  833.0       5.0\n",
            "30 2023-01-31   East   Monitor  719.0       8.0\n",
            "31 2023-02-01   East    Laptop  655.0       1.0\n",
            "35 2023-02-05   East    Laptop  739.0       7.0\n",
            "38 2023-02-08   East  Keyboard  572.0       7.0\n",
            "57 2023-02-27   East     Mouse  918.0       1.0\n",
            "59 2023-03-01   East   Monitor  783.0       4.0\n",
            "63 2023-03-05   East   Monitor  771.0       6.0\n",
            "67 2023-03-09   East  Keyboard  791.0       9.0\n",
            "72 2023-03-14   East  Keyboard  663.0       2.0\n",
            "74 2023-03-16   East   Monitor  609.0       3.0\n",
            "82 2023-03-24   East     Mouse  798.0       8.0\n",
            "87 2023-03-29   East  Keyboard  665.0       1.0\n",
            "99 2023-04-10   East  Keyboard  809.0       1.0\n"
          ]
        }
      ]
    },
    {
      "cell_type": "code",
      "source": [
        "# Task 4: Data Cleaning (Handling Missing Values)\n",
        "print(\"\\n--- Task 4: Data Cleaning (Handling Missing Values) ---\")\n",
        "# Use 'df_sales' from Task 2 (which should have NaNs).\n",
        "# 4.1 Check how many missing values are in each column. Store the result in 'missing_counts4_1'.\n",
        "# 4.2 Fill missing 'Sales' values with the mean of the 'Sales' column. Store the modified DataFrame in 'df4_2_filled'.\n",
        "# 4.3 Drop rows that have any missing values in 'df_sales'. Store the result in 'df4_3_dropped'.\n",
        "\n",
        "missing_counts4_1 = df_sales.isna().sum()\n",
        "print(\"\\n4.1 Missing values in each column:\\n\", missing_counts4_1)\n",
        "\n",
        "sales_mean = df_sales['Sales'].mean()\n",
        "df4_2_filled = df_sales.copy()\n",
        "df4_2_filled['Sales'] = df4_2_filled['Sales'].fillna(sales_mean)\n",
        "print(\"\\n4.2 Filled missing 'Sales' with mean:\", sales_mean)\n",
        "\n",
        "df4_3_dropped = df_sales.dropna()\n",
        "print(\"\\n4.3 After dropping rows with any missing values, shape:\", df4_3_dropped.shape)"
      ],
      "metadata": {
        "colab": {
          "base_uri": "https://localhost:8080/"
        },
        "id": "jH-vlO-W7Olo",
        "outputId": "2f096efb-6d58-45e8-ac0c-f9a580f71dc3"
      },
      "execution_count": null,
      "outputs": [
        {
          "output_type": "stream",
          "name": "stdout",
          "text": [
            "\n",
            "--- Task 4: Data Cleaning (Handling Missing Values) ---\n",
            "\n",
            "4.1 Missing values in each column:\n",
            " Date        0\n",
            "Region      0\n",
            "Product     0\n",
            "Sales       5\n",
            "Quantity    3\n",
            "dtype: int64\n",
            "\n",
            "4.2 Filled missing 'Sales' with mean: 590.1473684210526\n",
            "\n",
            "4.3 After dropping rows with any missing values, shape: (92, 5)\n"
          ]
        }
      ]
    },
    {
      "cell_type": "code",
      "source": [
        "# Task 5: Data Manipulation (Columns, Sorting, Grouping)\n",
        "print(\"\\n--- Task 5: Data Manipulation (Columns, Sorting, Grouping) ---\")\n",
        "# Use 'df_sales' (the original one with NaNs)\n",
        "# 5.1 Create a new column 'Total_Revenue' which is 'Sales' * 'Quantity'.\n",
        "#     (Be mindful of NaNs, the result should also be NaN where either Sales or Quantity is NaN).\n",
        "# 5.2 Sort 'df_sales' by 'Date' in ascending order, then by 'Sales' in descending order. Store it in 'df5_2_sorted'.\n",
        "# 5.3 Group 'df_sales' by 'Region' and calculate the sum of 'Sales' and 'Quantity' for each region.\n",
        "#     Store the result in 'df5_3_grouped_region'.\n",
        "# 5.4 Group 'df_sales' by 'Product' and find the average 'Sales' for each product.\n",
        "#     Store the result in 'df5_4_grouped_product'.\n",
        "\n",
        "df_sales['Total_Revenue'] = df_sales['Sales'] * df_sales['Quantity']\n",
        "df5_2_sorted = df_sales.sort_values(by=['Date', 'Sales'], ascending=[True, False])\n",
        "df5_3_grouped_region = df_sales.groupby('Region')[['Sales', 'Quantity']].sum()\n",
        "df5_4_grouped_product = df_sales.groupby('Product')['Sales'].mean()\n",
        "\n",
        "print(\"\\n5.1 New column 'Total_Revenue':\")\n",
        "print(df_sales[['Sales', 'Quantity', 'Total_Revenue']])\n",
        "print(\"\\n5.2 Sorted DataFrame 'df5_2_sorted':\")\n",
        "print(df5_2_sorted)\n",
        "print(\"\\n5.3 Grouped DataFrame 'df5_3_grouped_region':\")\n",
        "print(df5_3_grouped_region)\n",
        "print(\"\\n5.4 Grouped DataFrame 'df5_4_grouped_product':\")\n",
        "print(df5_4_grouped_product)"
      ],
      "metadata": {
        "colab": {
          "base_uri": "https://localhost:8080/"
        },
        "id": "lVUaX7U_7a3e",
        "outputId": "a65094d9-b0d6-4690-d8a3-43158516d565"
      },
      "execution_count": null,
      "outputs": [
        {
          "output_type": "stream",
          "name": "stdout",
          "text": [
            "\n",
            "--- Task 5: Data Manipulation (Columns, Sorting, Grouping) ---\n",
            "\n",
            "5.1 New column 'Total_Revenue':\n",
            "    Sales  Quantity  Total_Revenue\n",
            "0   674.0       7.0         4718.0\n",
            "1   963.0       4.0         3852.0\n",
            "2     NaN       7.0            NaN\n",
            "3   340.0       8.0         2720.0\n",
            "4   663.0       1.0          663.0\n",
            "..    ...       ...            ...\n",
            "95  152.0       6.0          912.0\n",
            "96  783.0       8.0         6264.0\n",
            "97  829.0       2.0         1658.0\n",
            "98  771.0       5.0         3855.0\n",
            "99  809.0       1.0          809.0\n",
            "\n",
            "[100 rows x 3 columns]\n",
            "\n",
            "5.2 Sorted DataFrame 'df5_2_sorted':\n",
            "         Date Region   Product  Sales  Quantity  Total_Revenue\n",
            "0  2023-01-01  North  Keyboard  674.0       7.0         4718.0\n",
            "1  2023-01-02  South     Mouse  963.0       4.0         3852.0\n",
            "2  2023-01-03   East     Mouse    NaN       7.0            NaN\n",
            "3  2023-01-04  North   Monitor  340.0       8.0         2720.0\n",
            "4  2023-01-05  North     Mouse  663.0       1.0          663.0\n",
            "..        ...    ...       ...    ...       ...            ...\n",
            "95 2023-04-06   West     Mouse  152.0       6.0          912.0\n",
            "96 2023-04-07   West     Mouse  783.0       8.0         6264.0\n",
            "97 2023-04-08  South   Monitor  829.0       2.0         1658.0\n",
            "98 2023-04-09   West    Laptop  771.0       5.0         3855.0\n",
            "99 2023-04-10   East  Keyboard  809.0       1.0          809.0\n",
            "\n",
            "[100 rows x 6 columns]\n",
            "\n",
            "5.3 Grouped DataFrame 'df5_3_grouped_region':\n",
            "          Sales  Quantity\n",
            "Region                   \n",
            "East    12564.0      83.0\n",
            "North   12585.0     136.0\n",
            "South   16136.0     135.0\n",
            "West    14779.0     133.0\n",
            "\n",
            "5.4 Grouped DataFrame 'df5_4_grouped_product':\n",
            "Product\n",
            "Keyboard    593.066667\n",
            "Laptop      554.360000\n",
            "Monitor     561.380952\n",
            "Mouse       664.421053\n",
            "Name: Sales, dtype: float64\n"
          ]
        }
      ]
    }
  ]
}