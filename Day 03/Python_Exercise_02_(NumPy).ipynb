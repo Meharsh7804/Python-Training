{
  "nbformat": 4,
  "nbformat_minor": 0,
  "metadata": {
    "colab": {
      "provenance": []
    },
    "kernelspec": {
      "name": "python3",
      "display_name": "Python 3"
    },
    "language_info": {
      "name": "python"
    }
  },
  "cells": [
    {
      "cell_type": "markdown",
      "source": [
        "Name : Meharsh Chandure <br>\n",
        "Roll No: A-36"
      ],
      "metadata": {
        "id": "BvJpGPNS5W1I"
      }
    },
    {
      "cell_type": "code",
      "source": [
        "import numpy as np"
      ],
      "metadata": {
        "id": "Jh_FnLae6qK3"
      },
      "execution_count": null,
      "outputs": []
    },
    {
      "cell_type": "code",
      "execution_count": null,
      "metadata": {
        "colab": {
          "base_uri": "https://localhost:8080/"
        },
        "id": "An35PRr45KdW",
        "outputId": "78c362f4-c553-4a5c-adaa-0e19c7762770"
      },
      "outputs": [
        {
          "output_type": "stream",
          "name": "stdout",
          "text": [
            "\n",
            "--- Task 1: Array Creation Shortcuts ---\n",
            "\n",
            "1.1 Create a 1D array named 'arr1_1' with numbers from 0 to 99 (inclusive) using arange.\n",
            "[ 0  1  2  3  4  5  6  7  8  9 10 11 12 13 14 15 16 17 18 19 20 21 22 23\n",
            " 24 25 26 27 28 29 30 31 32 33 34 35 36 37 38 39 40 41 42 43 44 45 46 47\n",
            " 48 49 50 51 52 53 54 55 56 57 58 59 60 61 62 63 64 65 66 67 68 69 70 71\n",
            " 72 73 74 75 76 77 78 79 80 81 82 83 84 85 86 87 88 89 90 91 92 93 94 95\n",
            " 96 97 98 99]\n",
            "\n",
            "1.2 Create a 3x3 array named 'arr1_2' filled with ones.\n",
            "[[1. 1. 1.]\n",
            " [1. 1. 1.]\n",
            " [1. 1. 1.]]\n",
            "\n",
            "1.3 Create a 2x4 array named 'arr1_3' filled with the number 7.\n",
            "[[7 7 7 7]\n",
            " [7 7 7 7]]\n",
            "\n",
            "1.4 Create a 5x5 array named 'arr1_4' with random integers between 10 and 50 (inclusive).\n",
            "[[11 23 44 30 42]\n",
            " [26 37 21 46 28]\n",
            " [12 39 13 46 33]\n",
            " [34 19 43 48 41]\n",
            " [15 20 22 19 37]]\n"
          ]
        }
      ],
      "source": [
        "# Task 1: Array Creation Shortcuts\n",
        "print(\"\\n--- Task 1: Array Creation Shortcuts ---\")\n",
        "# 1.1 Create a 1D array named 'arr1_1' with numbers from 0 to 99 (inclusive) using arange.\n",
        "# 1.2 Create a 3x3 array named 'arr1_2' filled with ones.\n",
        "# 1.3 Create a 2x4 array named 'arr1_3' filled with the number 7.\n",
        "# 1.4 Create a 5x5 array named 'arr1_4' with random integers between 10 and 50 (inclusive).\n",
        "\n",
        "print(\"\\n1.1 Create a 1D array named 'arr1_1' with numbers from 0 to 99 (inclusive) using arange.\")\n",
        "arr1_1 = np.arange(100)\n",
        "print(arr1_1)\n",
        "\n",
        "print(\"\\n1.2 Create a 3x3 array named 'arr1_2' filled with ones.\")\n",
        "arr1_2 = np.ones((3,3))\n",
        "print(arr1_2)\n",
        "\n",
        "print(\"\\n1.3 Create a 2x4 array named 'arr1_3' filled with the number 7.\")\n",
        "arr1_3 = np.array([[7,7,7,7],[7,7,7,7]])\n",
        "print(arr1_3)\n",
        "\n",
        "print(\"\\n1.4 Create a 5x5 array named 'arr1_4' with random integers between 10 and 50 (inclusive).\")\n",
        "arr1_4 = np.random.randint(10,51,(5,5))\n",
        "print(arr1_4)"
      ]
    },
    {
      "cell_type": "code",
      "source": [
        "# Task 2: Indexing and Slicing with Arrays\n",
        "print(\"\\n--- Task 2: Indexing and Slicing with Arrays ---\")\n",
        "data = np.array([[10, 20, 30, 40],\n",
        "                 [50, 60, 70, 80],\n",
        "                 [90, 100, 110, 120],\n",
        "                 [130, 140, 150, 160]])\n",
        "\n",
        "# 2.1 Extract the element at row 2, column 3 (0-indexed). Store it in 'val2_1'.\n",
        "# 2.2 Extract the first row. Store it in 'row2_2'.\n",
        "# 2.3 Extract the last column. Store it in 'col2_3'.\n",
        "# 2.4 Extract the sub-array consisting of rows 1 and 2, and columns 0 and 1. Store it in 'sub_arr2_4'.\n",
        "# 2.5 Using boolean indexing, select all elements in 'data' that are greater than 100. Store them in 'filtered_elements2_5'.\n",
        "\n",
        "print(\"\\n2.1 Extract the element at row 2, column 3 (0-indexed). Store it in 'val2_1'.\")\n",
        "val2_1 = data[2,3]\n",
        "print(val2_1)\n",
        "\n",
        "print(\"\\n2.2 Extract the first row. Store it in 'row2_2'.\")\n",
        "row2_2 = data[0]\n",
        "print(row2_2)\n",
        "\n",
        "print(\"\\n2.3 Extract the last column. Store it in 'col2_3'.\")\n",
        "col2_3 = data[:,3]\n",
        "print(col2_3)\n",
        "\n",
        "print(\"\\n2.4 Extract the sub-array consisting of rows 1 and 2, and columns 0 and 1. Store it in 'sub_arr2_4'.\")\n",
        "sub_arr2_4 = data[1:3,0:2]\n",
        "print(sub_arr2_4)"
      ],
      "metadata": {
        "colab": {
          "base_uri": "https://localhost:8080/"
        },
        "id": "UFFDib6LBbCb",
        "outputId": "aa40966d-d564-42dc-a0d6-f9fe834c44eb"
      },
      "execution_count": null,
      "outputs": [
        {
          "output_type": "stream",
          "name": "stdout",
          "text": [
            "\n",
            "--- Task 2: Indexing and Slicing with Arrays ---\n",
            "\n",
            "2.1 Extract the element at row 2, column 3 (0-indexed). Store it in 'val2_1'.\n",
            "120\n",
            "\n",
            "2.2 Extract the first row. Store it in 'row2_2'.\n",
            "[10 20 30 40]\n",
            "\n",
            "2.3 Extract the last column. Store it in 'col2_3'.\n",
            "[ 40  80 120 160]\n",
            "\n",
            "2.4 Extract the sub-array consisting of rows 1 and 2, and columns 0 and 1. Store it in 'sub_arr2_4'.\n",
            "[[ 50  60]\n",
            " [ 90 100]]\n"
          ]
        }
      ]
    },
    {
      "cell_type": "code",
      "source": [
        "# Task 3: Conditional Operations\n",
        "print(\"\\n--- Task 3: Conditional Operations ---\")\n",
        "arr3_1 = np.random.randint(1, 21, size=(4, 5)) # Random 4x5 array with values 1 to 20\n",
        "\n",
        "# 3.1 Create a new array 'arr3_2' where elements in 'arr3_1' less than 10 are replaced with 0,\n",
        "#     and elements greater than or equal to 10 remain unchanged.\n",
        "# 3.2 Count how many elements in 'arr3_1' are even. Store the count in 'even_count3_3'.\n",
        "\n",
        "print(\"\\n3.1 Create a new array 'arr3_2' where elements in 'arr3_1' less than 10 are replaced with 0, and elements greater than or equal to 10 remain unchanged.\")\n",
        "arr3_2 = np.where(arr3_1 < 10, 0, arr3_1)\n",
        "print(arr3_2)\n",
        "\n",
        "print(\"\\n3.2 Count how many elements in 'arr3_1' are even. Store the count in 'even_count3_3'.\")\n",
        "even_count3_3 = np.count_nonzero(arr3_1 % 2 == 0)\n",
        "print(even_count3_3)"
      ],
      "metadata": {
        "colab": {
          "base_uri": "https://localhost:8080/"
        },
        "id": "ZMJWIKkuBbme",
        "outputId": "ff5f37cc-a895-4af0-ad9f-3004a41d9b50"
      },
      "execution_count": null,
      "outputs": [
        {
          "output_type": "stream",
          "name": "stdout",
          "text": [
            "\n",
            "--- Task 3: Conditional Operations ---\n",
            "\n",
            "3.1 Create a new array 'arr3_2' where elements in 'arr3_1' less than 10 are replaced with 0, and elements greater than or equal to 10 remain unchanged.\n",
            "[[ 0  0 18 12 17]\n",
            " [ 0 14  0 10 16]\n",
            " [ 0 19  0 17  0]\n",
            " [ 0 12  0 12 16]]\n",
            "\n",
            "3.2 Count how many elements in 'arr3_1' are even. Store the count in 'even_count3_3'.\n",
            "12\n"
          ]
        }
      ]
    },
    {
      "cell_type": "code",
      "source": [
        "# Task 4: Aggregation Functions\n",
        "print(\"\\n--- Task 4: Aggregation Functions ---\")\n",
        "arr4_1 = np.array([[10, 5, 12],\n",
        "                   [3, 8, 15],\n",
        "                   [20, 7, 4]])\n",
        "\n",
        "# 4.1 Calculate the sum of all elements in 'arr4_1'. Store it in 'sum4_1'.\n",
        "# 4.2 Calculate the mean of each column. Store it in 'mean_cols4_2'.\n",
        "# 4.3 Find the maximum value in each row. Store it in 'max_rows4_3'.\n",
        "# 4.4 Calculate the standard deviation of the entire array. Store it in 'std4_4'.\n",
        "\n",
        "print(\"\\n4.1 Calculate the sum of all elements in 'arr4_1'. Store it in 'sum4_1'.\")\n",
        "sum4_1 = np.sum(arr4_1)\n",
        "print(sum4_1)\n",
        "\n",
        "print(\"\\n4.2 Calculate the mean of each column. Store it in 'mean_cols4_2'.\")\n",
        "mean_cols4_2 = np.mean(arr4_1, axis=0)\n",
        "print(mean_cols4_2)\n",
        "\n",
        "print(\"\\n4.3 Find the maximum value in each row. Store it in 'max_rows4_3'.\")\n",
        "max_rows4_3 = np.max(arr4_1, axis=1)\n",
        "print(max_rows4_3)\n",
        "\n",
        "print(\"\\n4.4 Calculate the standard deviation of the entire array. Store it in 'std4_4'.\")\n",
        "std4_4 = np.std(arr4_1)\n",
        "print(std4_4)"
      ],
      "metadata": {
        "colab": {
          "base_uri": "https://localhost:8080/"
        },
        "id": "xTcL0XF0BsIh",
        "outputId": "6e57675b-b923-4f9c-da71-4a699c0e8b12"
      },
      "execution_count": null,
      "outputs": [
        {
          "output_type": "stream",
          "name": "stdout",
          "text": [
            "\n",
            "--- Task 4: Aggregation Functions ---\n",
            "\n",
            "4.1 Calculate the sum of all elements in 'arr4_1'. Store it in 'sum4_1'.\n",
            "84\n",
            "\n",
            "4.2 Calculate the mean of each column. Store it in 'mean_cols4_2'.\n",
            "[11.          6.66666667 10.33333333]\n",
            "\n",
            "4.3 Find the maximum value in each row. Store it in 'max_rows4_3'.\n",
            "[12 15 20]\n",
            "\n",
            "4.4 Calculate the standard deviation of the entire array. Store it in 'std4_4'.\n",
            "5.2493385826745405\n"
          ]
        }
      ]
    },
    {
      "cell_type": "code",
      "source": [
        "# Task 5: Reshaping and Flattening\n",
        "print(\"\\n--- Task 5: Reshaping and Flattening ---\")\n",
        "arr5_1 = np.arange(24) # 1D array from 0 to 23\n",
        "\n",
        "# 5.1 Reshape 'arr5_1' into a 4x6 2D array. Store it in 'reshaped_arr5_2'.\n",
        "# 5.2 Reshape 'arr5_1' into a 2x3x4 3D array. Store it in 'reshaped_arr5_3'.\n",
        "# 5.3 Flatten 'reshaped_arr5_2' back into a 1D array. Store it in 'flattened_arr5_4'.\n",
        "#     Use both `.ravel()` and `.flatten()` to see if there's a difference (though not visible in output).\n",
        "\n",
        "print(\"\\n5.1 Reshape 'arr5_1' into a 4x6 2D array. Store it in 'reshaped_arr5_2'.\")\n",
        "reshaped_arr5_2 = arr5_1.reshape(4,6)\n",
        "print(reshaped_arr5_2)\n",
        "\n",
        "print(\"\\n5.2 Reshape 'arr5_1' into a 2x3x4 3D array. Store it in 'reshaped_arr5_3'.\")\n",
        "reshaped_arr5_3 = arr5_1.reshape(2,3,4)\n",
        "print(reshaped_arr5_3)\n",
        "\n",
        "print(\"\\n5.3 Flatten 'reshaped_arr5_2' back into a 1D array. Store it in 'flattened_arr5_4'.\")\n",
        "flattened_arr5_4 = reshaped_arr5_2.flatten()\n",
        "print(flattened_arr5_4)\n",
        "\n",
        "print(\"\\n5.4 Use both `.ravel()` and `.flatten()` to see if there's a difference (though not visible in output).\")\n",
        "flattened_arr5_5 = reshaped_arr5_2.ravel()\n",
        "print(flattened_arr5_5)"
      ],
      "metadata": {
        "colab": {
          "base_uri": "https://localhost:8080/"
        },
        "id": "Hsqjv-lWBymO",
        "outputId": "185ffbf6-737b-491e-bdc3-a9e5b4e3ddd0"
      },
      "execution_count": null,
      "outputs": [
        {
          "output_type": "stream",
          "name": "stdout",
          "text": [
            "\n",
            "--- Task 5: Reshaping and Flattening ---\n",
            "\n",
            "5.1 Reshape 'arr5_1' into a 4x6 2D array. Store it in 'reshaped_arr5_2'.\n",
            "[[ 0  1  2  3  4  5]\n",
            " [ 6  7  8  9 10 11]\n",
            " [12 13 14 15 16 17]\n",
            " [18 19 20 21 22 23]]\n",
            "\n",
            "5.2 Reshape 'arr5_1' into a 2x3x4 3D array. Store it in 'reshaped_arr5_3'.\n",
            "[[[ 0  1  2  3]\n",
            "  [ 4  5  6  7]\n",
            "  [ 8  9 10 11]]\n",
            "\n",
            " [[12 13 14 15]\n",
            "  [16 17 18 19]\n",
            "  [20 21 22 23]]]\n",
            "\n",
            "5.3 Flatten 'reshaped_arr5_2' back into a 1D array. Store it in 'flattened_arr5_4'.\n",
            "[ 0  1  2  3  4  5  6  7  8  9 10 11 12 13 14 15 16 17 18 19 20 21 22 23]\n",
            "\n",
            "5.4 Use both `.ravel()` and `.flatten()` to see if there's a difference (though not visible in output).\n",
            "[ 0  1  2  3  4  5  6  7  8  9 10 11 12 13 14 15 16 17 18 19 20 21 22 23]\n"
          ]
        }
      ]
    },
    {
      "cell_type": "code",
      "source": [
        "# Task 6: Broadcasting\n",
        "print(\"\\n--- Task 6: Broadcasting ---\")\n",
        "arr6_1 = np.array([[1, 2, 3],\n",
        "                   [4, 5, 6],\n",
        "                   [7, 8, 9]])\n",
        "scalar = 10\n",
        "vector = np.array([100, 200, 300])\n",
        "\n",
        "# 6.1 Add the 'scalar' to every element of 'arr6_1'. Store it in 'result6_1'.\n",
        "# 6.2 Add the 'vector' to each row of 'arr6_1'. Store it in 'result6_2'.\n",
        "\n",
        "print(\"\\n6.1 Add the 'scalar' to every element of 'arr6_1'. Store it in 'result6_1'.\")\n",
        "result6_1 = arr6_1 + scalar\n",
        "print(result6_1)\n",
        "\n",
        "print(\"\\n6.2 Add the 'vector' to each row of 'arr6_1'. Store it in 'result6_2'.\")\n",
        "result6_2 = arr6_1 + vector\n",
        "print(result6_2)"
      ],
      "metadata": {
        "colab": {
          "base_uri": "https://localhost:8080/"
        },
        "id": "Mfz9LGy5CFHh",
        "outputId": "71357d27-e059-4fa3-c07d-b200048e835a"
      },
      "execution_count": null,
      "outputs": [
        {
          "output_type": "stream",
          "name": "stdout",
          "text": [
            "\n",
            "--- Task 6: Broadcasting ---\n",
            "\n",
            "6.1 Add the 'scalar' to every element of 'arr6_1'. Store it in 'result6_1'.\n",
            "[[11 12 13]\n",
            " [14 15 16]\n",
            " [17 18 19]]\n",
            "\n",
            "6.2 Add the 'vector' to each row of 'arr6_1'. Store it in 'result6_2'.\n",
            "[[101 202 303]\n",
            " [104 205 306]\n",
            " [107 208 309]]\n"
          ]
        }
      ]
    },
    {
      "cell_type": "code",
      "source": [
        "# Task 7: Copying vs. Viewing Arrays\n",
        "print(\"\\n--- Task 7: Copying vs. Viewing Arrays ---\")\n",
        "original_arr7 = np.array([1, 2, 3, 4, 5])\n",
        "\n",
        "# 7.1 Create a 'view' of 'original_arr7' named 'view_arr7' by slicing the entire array.\n",
        "#     Modify the first element of 'view_arr7' to 99.\n",
        "#     Observe how 'original_arr7' changes.\n",
        "# 7.2 Create a 'copy' of 'original_arr7' named 'copy_arr7' using `.copy()`.\n",
        "#     Modify the last element of 'copy_arr7' to 0.\n",
        "#     Observe how 'original_arr7' remains unchanged.\n",
        "\n",
        "print(\"\\n7.1 Create a 'view' of 'original_arr7' named 'view_arr7' by slicing the entire array.\")\n",
        "view_arr7 = original_arr7[:]\n",
        "print(view_arr7)\n",
        "\n",
        "print(\"\\n7.1 Modify the first element of 'view_arr7' to 99.\")\n",
        "view_arr7[0] = 99\n",
        "print(view_arr7)\n",
        "\n",
        "print(\"\\n7.2 Create a 'copy' of 'original_arr7' named 'copy_arr7' using `.copy()`.\")\n",
        "copy_arr7 = original_arr7.copy()\n",
        "print(copy_arr7)\n",
        "\n",
        "print(\"\\n7.3 Modify the last element of 'copy_arr7' to 0.\")\n",
        "copy_arr7[-1] = 0\n",
        "print(copy_arr7)"
      ],
      "metadata": {
        "colab": {
          "base_uri": "https://localhost:8080/"
        },
        "id": "0RWfrxW5CIxA",
        "outputId": "3c17f47e-abda-41c2-bc56-cfcdac2384c4"
      },
      "execution_count": null,
      "outputs": [
        {
          "output_type": "stream",
          "name": "stdout",
          "text": [
            "\n",
            "--- Task 7: Copying vs. Viewing Arrays ---\n",
            "\n",
            "7.1 Create a 'view' of 'original_arr7' named 'view_arr7' by slicing the entire array.\n",
            "[1 2 3 4 5]\n",
            "\n",
            "7.1 Modify the first element of 'view_arr7' to 99.\n",
            "[99  2  3  4  5]\n",
            "\n",
            "7.2 Create a 'copy' of 'original_arr7' named 'copy_arr7' using `.copy()`.\n",
            "[99  2  3  4  5]\n",
            "\n",
            "7.3 Modify the last element of 'copy_arr7' to 0.\n",
            "[99  2  3  4  0]\n"
          ]
        }
      ]
    },
    {
      "cell_type": "code",
      "source": [
        "# Task 8: Stacking and Splitting Arrays\n",
        "print(\"\\n--- Task 8: Stacking and Splitting Arrays ---\")\n",
        "arr8_a = np.array([[1, 2], [3, 4]])\n",
        "arr8_b = np.array([[5, 6], [7, 8]])\n",
        "arr8_c = np.array([[9, 10]])\n",
        "\n",
        "# 8.1 Vertically stack 'arr8_a' and 'arr8_b'. Store it in 'vstack_arr8_1'.\n",
        "# 8.2 Horizontally stack 'arr8_a' and 'arr8_b'. Store it in 'hstack_arr8_2'.\n",
        "# 8.3 Vertically stack 'vstack_arr8_1' and 'arr8_c'. Store it in 'combined_arr8_3'.\n",
        "# 8.4 Split 'combined_arr8_3' into 3 equal parts (rows). Store them in 'part1', 'part2', 'part3'.\n",
        "\n",
        "print(\"\\n8.1 Vertically stack 'arr8_a' and 'arr8_b'. Store it in 'vstack_arr8_1'.\")\n",
        "vstack_arr8_1 = np.vstack((arr8_a, arr8_b))\n",
        "print(vstack_arr8_1)\n",
        "\n",
        "print(\"\\n8.2 Horizontally stack 'arr8_a' and 'arr8_b'. Store it in 'hstack_arr8_2'.\")\n",
        "hstack_arr8 = np.hstack((arr8_a, arr8_b))\n",
        "print(hstack_arr8)\n",
        "\n",
        "print(\"\\n8.3 Vertically stack 'vstack_arr8_1' and 'arr8_c'. Store it in 'combined_arr8_3'.\")\n",
        "combined_arr8_3 = np.vstack((vstack_arr8_1, arr8_c))\n",
        "print(combined_arr8_3)\n",
        "\n",
        "print(\"\\n8.4 Split 'combined_arr8_3' into 3 equal parts (rows). Store them in 'part1', 'part2', 'part3'.\")\n",
        "part1, part2, part3 = np.vsplit(combined_arr8_3, [1,3])\n",
        "print(part1)\n",
        "print(part2)\n",
        "print(part3)"
      ],
      "metadata": {
        "colab": {
          "base_uri": "https://localhost:8080/"
        },
        "id": "QkBpP7_JCUrR",
        "outputId": "7efc29cc-d3d8-4b21-feb6-3a87c0da5475"
      },
      "execution_count": null,
      "outputs": [
        {
          "output_type": "stream",
          "name": "stdout",
          "text": [
            "\n",
            "--- Task 8: Stacking and Splitting Arrays ---\n",
            "\n",
            "8.1 Vertically stack 'arr8_a' and 'arr8_b'. Store it in 'vstack_arr8_1'.\n",
            "[[1 2]\n",
            " [3 4]\n",
            " [5 6]\n",
            " [7 8]]\n",
            "\n",
            "8.2 Horizontally stack 'arr8_a' and 'arr8_b'. Store it in 'hstack_arr8_2'.\n",
            "[[1 2 5 6]\n",
            " [3 4 7 8]]\n",
            "\n",
            "8.3 Vertically stack 'vstack_arr8_1' and 'arr8_c'. Store it in 'combined_arr8_3'.\n",
            "[[ 1  2]\n",
            " [ 3  4]\n",
            " [ 5  6]\n",
            " [ 7  8]\n",
            " [ 9 10]]\n",
            "\n",
            "8.4 Split 'combined_arr8_3' into 3 equal parts (rows). Store them in 'part1', 'part2', 'part3'.\n",
            "[[1 2]]\n",
            "[[3 4]\n",
            " [5 6]]\n",
            "[[ 7  8]\n",
            " [ 9 10]]\n"
          ]
        }
      ]
    },
    {
      "cell_type": "code",
      "source": [
        "# Task 9: Sorting and Searching\n",
        "print(\"\\n--- Task 9: Sorting and Searching ---\")\n",
        "arr9_1 = np.array([5, 2, 8, 1, 9, 4, 7, 3, 6])\n",
        "arr9_2d = np.array([[30, 20, 10],\n",
        "                    [60, 50, 40],\n",
        "                    [90, 80, 70]])\n",
        "\n",
        "# 9.1 Sort 'arr9_1' in ascending order. Store it in 'sorted_arr9_1'.\n",
        "# 9.2 Sort 'arr9_2d' along columns (i.e., each column sorted independently). Store it in 'sorted_cols9_2'.\n",
        "# 9.3 Find the indices where the value 9 is present in 'arr9_1'. Store it in 'idx9_3'. (Hint: use np.where)\n",
        "# 9.4 Find the index of the maximum value in 'arr9_1'. Store it in 'max_idx9_4'.\n",
        "\n",
        "print(\"\\n9.1 Sort 'arr9_1' in ascending order. Store it in 'sorted_arr9_1'.\")\n",
        "sorted_arr9_1 = np.sort(arr9_1)\n",
        "print(sorted_arr9_1)\n",
        "\n",
        "print(\"\\n9.2 Sort 'arr9_2d' along columns (i.e., each column sorted independently). Store it in 'sorted_cols9_2'.\")\n",
        "sorted_cols9_2 = np.sort(arr9_2d, axis=0)\n",
        "print(sorted_cols9_2)\n",
        "\n",
        "print(\"\\n9.3 Find the indices where the value 9 is present in 'arr9_1'. Store it in 'idx9_3'. (Hint: use np.where)\")\n",
        "idx9_3 = np.where(arr9_1 == 9)\n",
        "print(idx9_3)\n",
        "\n",
        "print(\"\\n9.4 Find the index of the maximum value in 'arr9_1'. Store it in 'max_idx9_4'.\")\n",
        "max_idx9_4 = np.argmax(arr9_1)\n",
        "print(max_idx9_4)"
      ],
      "metadata": {
        "colab": {
          "base_uri": "https://localhost:8080/"
        },
        "id": "IZOl2ivMChSn",
        "outputId": "3b14839f-adae-42a1-d89e-349e5d04143e"
      },
      "execution_count": null,
      "outputs": [
        {
          "output_type": "stream",
          "name": "stdout",
          "text": [
            "\n",
            "--- Task 9: Sorting and Searching ---\n",
            "\n",
            "9.1 Sort 'arr9_1' in ascending order. Store it in 'sorted_arr9_1'.\n",
            "[1 2 3 4 5 6 7 8 9]\n",
            "\n",
            "9.2 Sort 'arr9_2d' along columns (i.e., each column sorted independently). Store it in 'sorted_cols9_2'.\n",
            "[[30 20 10]\n",
            " [60 50 40]\n",
            " [90 80 70]]\n",
            "\n",
            "9.3 Find the indices where the value 9 is present in 'arr9_1'. Store it in 'idx9_3'. (Hint: use np.where)\n",
            "(array([4]),)\n",
            "\n",
            "9.4 Find the index of the maximum value in 'arr9_1'. Store it in 'max_idx9_4'.\n",
            "4\n"
          ]
        }
      ]
    }
  ]
}