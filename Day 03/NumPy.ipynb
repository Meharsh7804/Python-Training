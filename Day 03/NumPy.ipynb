{
  "nbformat": 4,
  "nbformat_minor": 0,
  "metadata": {
    "colab": {
      "provenance": []
    },
    "kernelspec": {
      "name": "python3",
      "display_name": "Python 3"
    },
    "language_info": {
      "name": "python"
    }
  },
  "cells": [
    {
      "cell_type": "markdown",
      "metadata": {
        "id": "ea601d10"
      },
      "source": [
        "## 1. Introduction to NumPy\n",
        "\n",
        "NumPy (Numerical Python) is a fundamental library for numerical computing in Python. It provides support for large, multi-dimensional arrays and matrices, along with a collection of mathematical functions to operate on these arrays efficiently. NumPy is the cornerstone of many other scientific computing libraries in Python, such as SciPy and pandas."
      ]
    },
    {
      "cell_type": "code",
      "metadata": {
        "id": "afdc460a"
      },
      "source": [
        "import numpy as np\n",
        "print(\"NumPy imported successfully!\")"
      ],
      "execution_count": null,
      "outputs": []
    },
    {
      "cell_type": "markdown",
      "metadata": {
        "id": "d977f17f"
      },
      "source": [
        "## 2. Array Creation Shortcuts\n",
        "\n",
        "NumPy provides several convenient functions to create arrays with predefined values or patterns."
      ]
    },
    {
      "cell_type": "code",
      "metadata": {
        "id": "8cae8bd2"
      },
      "source": [
        "# Create an array of zeros\n",
        "zeros_array = np.zeros((3, 4))\n",
        "print(\"Array of zeros:\")\n",
        "display(zeros_array)\n",
        "\n",
        "# Create an array of ones\n",
        "ones_array = np.ones((2, 3, 4))\n",
        "print(\"\\nArray of ones:\")\n",
        "display(ones_array)\n",
        "\n",
        "# Create an array with a range of values\n",
        "arange_array = np.arange(10)\n",
        "print(\"\\nArray with a range of values (0 to 9):\")\n",
        "display(arange_array)\n",
        "\n",
        "# Create an array with a specified start, stop, and step\n",
        "arange_step_array = np.arange(2, 10, 2)\n",
        "print(\"\\nArray with a range of values (2 to 9 with step 2):\")\n",
        "display(arange_step_array)\n",
        "\n",
        "# Create an array of evenly spaced values within an interval\n",
        "linspace_array = np.linspace(0, 1, 5)\n",
        "print(\"\\nArray of evenly spaced values (0 to 1 with 5 points):\")\n",
        "display(linspace_array)"
      ],
      "execution_count": null,
      "outputs": []
    },
    {
      "cell_type": "markdown",
      "metadata": {
        "id": "afc55140"
      },
      "source": [
        "## 3. Aggregation Functions\n",
        "\n",
        "NumPy provides powerful aggregation functions to compute statistics on arrays."
      ]
    },
    {
      "cell_type": "code",
      "metadata": {
        "id": "7411e7f9"
      },
      "source": [
        "# Create a sample array\n",
        "arr = np.array([[1, 2, 3], [4, 5, 6]])\n",
        "print(\"Original array:\")\n",
        "display(arr)\n",
        "\n",
        "# Sum of all elements\n",
        "total_sum = np.sum(arr)\n",
        "print(\"\\nSum of all elements:\", total_sum)\n",
        "\n",
        "# Sum along an axis (e.g., rows)\n",
        "sum_rows = np.sum(arr, axis=0)\n",
        "print(\"Sum along rows:\", sum_rows)\n",
        "\n",
        "# Mean of all elements\n",
        "mean_all = np.mean(arr)\n",
        "print(\"Mean of all elements:\", mean_all)\n",
        "\n",
        "# Maximum element\n",
        "max_element = np.max(arr)\n",
        "print(\"Maximum element:\", max_element)\n",
        "\n",
        "# Minimum element along an axis (e.g., columns)\n",
        "min_cols = np.min(arr, axis=1)\n",
        "print(\"Minimum along columns:\", min_cols)\n",
        "\n",
        "# Standard deviation\n",
        "std_dev = np.std(arr)\n",
        "print(\"Standard deviation:\", std_dev)"
      ],
      "execution_count": null,
      "outputs": []
    },
    {
      "cell_type": "markdown",
      "metadata": {
        "id": "e2827fc4"
      },
      "source": [
        "## 4. Sorting and Searching\n",
        "\n",
        "NumPy offers functions to sort arrays and find specific elements."
      ]
    },
    {
      "cell_type": "code",
      "metadata": {
        "id": "92acc5a7"
      },
      "source": [
        "# Create a sample array\n",
        "arr = np.array([3, 1, 4, 1, 5, 9, 2, 6])\n",
        "print(\"Original array:\", arr)\n",
        "\n",
        "# Sort the array\n",
        "sorted_arr = np.sort(arr)\n",
        "print(\"Sorted array:\", sorted_arr)\n",
        "\n",
        "# Sort along an axis (for multi-dimensional arrays)\n",
        "multi_arr = np.array([[5, 2, 8], [1, 9, 4]])\n",
        "print(\"\\nOriginal multi-dimensional array:\")\n",
        "display(multi_arr)\n",
        "sorted_multi_arr = np.sort(multi_arr, axis=1)\n",
        "print(\"Sorted along rows:\")\n",
        "display(sorted_multi_arr)\n",
        "\n",
        "# Find the indices that would sort the array\n",
        "argsort_indices = np.argsort(arr)\n",
        "print(\"\\nIndices that would sort the array:\", argsort_indices)\n",
        "\n",
        "# Search for elements\n",
        "search_arr = np.array([1, 2, 3, 4, 5, 6])\n",
        "print(\"\\nArray for searching:\", search_arr)\n",
        "# Find indices where elements should be inserted to maintain order\n",
        "insert_indices = np.searchsorted(search_arr, [0, 3, 7])\n",
        "print(\"Indices to insert [0, 3, 7]:\", insert_indices)\n",
        "\n",
        "# Find the indices of maximum and minimum values\n",
        "argmax_index = np.argmax(arr)\n",
        "print(\"Index of maximum value:\", argmax_index)\n",
        "argmin_index = np.argmin(arr)\n",
        "print(\"Index of minimum value:\", argmin_index)"
      ],
      "execution_count": null,
      "outputs": []
    },
    {
      "cell_type": "markdown",
      "metadata": {
        "id": "67eb4991"
      },
      "source": [
        "## 5. Reshaping and Flattening\n",
        "\n",
        "Reshaping changes the dimensions of an array, while flattening converts it into a 1D array."
      ]
    },
    {
      "cell_type": "code",
      "metadata": {
        "id": "ba8e712c"
      },
      "source": [
        "# Create a sample array\n",
        "arr = np.arange(12)\n",
        "print(\"Original array:\", arr)\n",
        "\n",
        "# Reshape to a 3x4 array\n",
        "reshaped_arr = arr.reshape((3, 4))\n",
        "print(\"\\nReshaped to 3x4:\")\n",
        "display(reshaped_arr)\n",
        "\n",
        "# Reshape to a 2x2x3 array\n",
        "reshaped_3d_arr = arr.reshape((2, 2, 3))\n",
        "print(\"\\nReshaped to 2x2x3:\")\n",
        "display(reshaped_3d_arr)\n",
        "\n",
        "# Flatten the array (returns a copy)\n",
        "flattened_arr = reshaped_arr.flatten()\n",
        "print(\"\\nFlattened array (using flatten):\", flattened_arr)\n",
        "\n",
        "# Flatten the array (returns a view where possible)\n",
        "raveled_arr = reshaped_arr.ravel()\n",
        "print(\"Flattened array (using ravel):\", raveled_arr)"
      ],
      "execution_count": null,
      "outputs": []
    },
    {
      "cell_type": "markdown",
      "metadata": {
        "id": "8e428435"
      },
      "source": [
        "## 6. Broadcasting\n",
        "\n",
        "Broadcasting is a powerful mechanism that allows NumPy to work with arrays of different shapes when performing arithmetic operations."
      ]
    },
    {
      "cell_type": "code",
      "metadata": {
        "id": "37b4c47e"
      },
      "source": [
        "# Create two arrays with different shapes\n",
        "arr1 = np.array([[1, 2, 3], [4, 5, 6]])\n",
        "arr2 = np.array([10, 20, 30])\n",
        "\n",
        "print(\"Array 1:\")\n",
        "display(arr1)\n",
        "print(\"\\nArray 2:\")\n",
        "display(arr2)\n",
        "\n",
        "# Broadcasting allows adding arr2 to each row of arr1\n",
        "result_broadcast = arr1 + arr2\n",
        "print(\"\\nResult of broadcasting (arr1 + arr2):\")\n",
        "display(result_broadcast)\n",
        "\n",
        "# Another example with a scalar\n",
        "scalar = 100\n",
        "result_scalar_broadcast = arr1 + scalar\n",
        "print(\"\\nResult of broadcasting with a scalar (arr1 + 100):\")\n",
        "display(result_scalar_broadcast)"
      ],
      "execution_count": null,
      "outputs": []
    },
    {
      "cell_type": "markdown",
      "metadata": {
        "id": "322f6f22"
      },
      "source": [
        "## 7. Conditional Operations\n",
        "\n",
        "You can perform operations on array elements based on conditions using boolean indexing or functions like `where`."
      ]
    },
    {
      "cell_type": "code",
      "metadata": {
        "id": "f83d05b0"
      },
      "source": [
        "# Create a sample array\n",
        "arr = np.array([1, 5, 2, 8, 3, 9, 4, 6])\n",
        "print(\"Original array:\", arr)\n",
        "\n",
        "# Use boolean indexing to select elements greater than 5\n",
        "greater_than_5 = arr[arr > 5]\n",
        "print(\"\\nElements greater than 5:\", greater_than_5)\n",
        "\n",
        "# Use np.where to replace elements based on a condition\n",
        "# Replace elements greater than 5 with 10\n",
        "replaced_arr = np.where(arr > 5, 10, arr)\n",
        "print(\"Array with elements > 5 replaced by 10:\", replaced_arr)\n",
        "\n",
        "# Replace even numbers with 0 and odd numbers with 1\n",
        "conditional_replace = np.where(arr % 2 == 0, 0, 1)\n",
        "print(\"Array with even replaced by 0 and odd by 1:\", conditional_replace)"
      ],
      "execution_count": null,
      "outputs": []
    },
    {
      "cell_type": "markdown",
      "metadata": {
        "id": "76b85783"
      },
      "source": [
        "## 8. Copying vs. Viewing Arrays\n",
        "\n",
        "Understanding the difference between copying and viewing arrays is crucial to avoid unexpected modifications. A copy creates a new array, while a view is just a different way of looking at the same data."
      ]
    },
    {
      "cell_type": "code",
      "metadata": {
        "id": "82c9fc16"
      },
      "source": [
        "# Create an array\n",
        "arr = np.array([1, 2, 3, 4, 5])\n",
        "print(\"Original array:\", arr)\n",
        "\n",
        "# Create a view of the array (no new data is created)\n",
        "view_arr = arr.view()\n",
        "print(\"View of the array:\", view_arr)\n",
        "\n",
        "# Modify the view - this also modifies the original array\n",
        "view_arr[0] = 100\n",
        "print(\"Modified view:\", view_arr)\n",
        "print(\"Original array after modifying view:\", arr)\n",
        "\n",
        "# Create a copy of the array (a new array with new data is created)\n",
        "copy_arr = arr.copy()\n",
        "print(\"\\nCopy of the array:\", copy_arr)\n",
        "\n",
        "# Modify the copy - this does NOT modify the original array\n",
        "copy_arr[0] = 5\n",
        "print(\"Modified copy:\", copy_arr)\n",
        "print(\"Original array after modifying copy:\", arr)"
      ],
      "execution_count": null,
      "outputs": []
    },
    {
      "cell_type": "markdown",
      "metadata": {
        "id": "c75e5aae"
      },
      "source": [
        "## 9. Stacking and Splitting Arrays\n",
        "\n",
        "NumPy provides functions to combine (stack) and divide (split) arrays."
      ]
    },
    {
      "cell_type": "code",
      "metadata": {
        "id": "4279e0c7"
      },
      "source": [
        "# Create two sample arrays\n",
        "arr1 = np.array([1, 2, 3])\n",
        "arr2 = np.array([4, 5, 6])\n",
        "\n",
        "print(\"Array 1:\", arr1)\n",
        "print(\"Array 2:\", arr2)\n",
        "\n",
        "# Stack arrays vertically (row-wise)\n",
        "vstack_arr = np.vstack((arr1, arr2))\n",
        "print(\"\\nVertically stacked array (vstack):\")\n",
        "display(vstack_arr)\n",
        "\n",
        "# Stack arrays horizontally (column-wise)\n",
        "hstack_arr = np.hstack((arr1, arr2))\n",
        "print(\"Horizontally stacked array (hstack):\", hstack_arr)\n",
        "\n",
        "# Create a multi-dimensional array for splitting\n",
        "split_arr = np.array([[1, 2, 3, 4], [5, 6, 7, 8], [9, 10, 11, 12]])\n",
        "print(\"\\nArray for splitting:\")\n",
        "display(split_arr)\n",
        "\n",
        "# Split the array into 3 equal parts vertically\n",
        "vsplit_arrs = np.vsplit(split_arr, 3)\n",
        "print(\"Vertically split arrays (vsplit):\")\n",
        "for arr in vsplit_arrs:\n",
        "    display(arr)\n",
        "\n",
        "# Split the array into 2 equal parts horizontally\n",
        "hsplit_arrs = np.hsplit(split_arr, 2)\n",
        "print(\"Horizontally split arrays (hsplit):\")\n",
        "for arr in hsplit_arrs:\n",
        "    display(arr)"
      ],
      "execution_count": null,
      "outputs": []
    },
    {
      "cell_type": "markdown",
      "metadata": {
        "id": "7a378da7"
      },
      "source": [
        "## 10. Indexing and Slicing\n",
        "\n",
        "Accessing elements or subarrays in NumPy arrays is done through indexing and slicing."
      ]
    },
    {
      "cell_type": "code",
      "metadata": {
        "id": "f4eb4d7a"
      },
      "source": [
        "# Create a sample 1D array\n",
        "arr = np.array([0, 1, 2, 3, 4, 5, 6, 7, 8, 9])\n",
        "print(\"Original 1D array:\", arr)\n",
        "\n",
        "# Access a single element\n",
        "print(\"Element at index 3:\", arr[3])\n",
        "\n",
        "# Slicing\n",
        "print(\"Elements from index 2 to 6 (exclusive):\", arr[2:6])\n",
        "print(\"Elements from the beginning to index 5 (exclusive):\", arr[:5])\n",
        "print(\"Elements from index 7 to the end:\", arr[7:])\n",
        "print(\"Elements with a step of 2:\", arr[::2])\n",
        "print(\"Reversed array:\", arr[::-1])\n",
        "\n",
        "# Create a sample 2D array\n",
        "multi_arr = np.array([[1, 2, 3], [4, 5, 6], [7, 8, 9]])\n",
        "print(\"\\nOriginal 2D array:\")\n",
        "display(multi_arr)\n",
        "\n",
        "# Access an element using row and column index\n",
        "print(\"Element at row 1, column 2:\", multi_arr[1, 2])\n",
        "\n",
        "# Slicing 2D arrays\n",
        "print(\"First row:\", multi_arr[0, :])\n",
        "print(\"Third column:\", multi_arr[:, 2])\n",
        "print(\"Subarray of the first two rows and first two columns:\")\n",
        "display(multi_arr[:2, :2])\n",
        "\n",
        "# Boolean indexing\n",
        "print(\"Elements greater than 5:\")\n",
        "display(multi_arr[multi_arr > 5])\n",
        "\n",
        "# Fancy indexing (using a list or array of indices)\n",
        "print(\"Elements at indices (0, 1) and (2, 0):\", multi_arr[[0, 2], [1, 0]])"
      ],
      "execution_count": null,
      "outputs": []
    },
    {
      "cell_type": "markdown",
      "metadata": {
        "id": "cb639ba6"
      },
      "source": [
        "## Conclusion\n",
        "\n",
        "NumPy is a powerful library that provides efficient tools for working with arrays and performing numerical operations in Python. Understanding these fundamental concepts and methods will enable you to leverage the full potential of NumPy for your data analysis and scientific computing tasks."
      ]
    }
  ]
}