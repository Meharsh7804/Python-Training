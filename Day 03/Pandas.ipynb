{
  "nbformat": 4,
  "nbformat_minor": 0,
  "metadata": {
    "colab": {
      "provenance": []
    },
    "kernelspec": {
      "name": "python3",
      "display_name": "Python 3"
    },
    "language_info": {
      "name": "python"
    }
  },
  "cells": [
    {
      "cell_type": "markdown",
      "metadata": {
        "id": "c515ffdc"
      },
      "source": [
        "## Understanding the Pandas Library\n",
        "\n",
        "Pandas is a powerful open-source data manipulation and analysis library for Python. It provides data structures like Series and DataFrames that are designed for handling structured data efficiently."
      ]
    },
    {
      "cell_type": "code",
      "metadata": {
        "id": "dc41df38"
      },
      "source": [
        "# Import the pandas library\n",
        "import pandas as pd\n",
        "import numpy as np"
      ],
      "execution_count": 1,
      "outputs": []
    },
    {
      "cell_type": "markdown",
      "metadata": {
        "id": "ffe7db9f"
      },
      "source": [
        "### Basic Pandas Functions\n",
        "\n",
        "Let's start with some basic functions to get acquainted with pandas DataFrames."
      ]
    },
    {
      "cell_type": "code",
      "metadata": {
        "colab": {
          "base_uri": "https://localhost:8080/"
        },
        "id": "fb1dde87",
        "outputId": "1d298c02-8f7e-4c4d-a3e4-21214dae532c"
      },
      "source": [
        "# Creating a simple DataFrame\n",
        "data = {'col1': [1, 2, 3, 4],\n",
        "        'col2': ['A', 'B', 'C', 'D']}\n",
        "df = pd.DataFrame(data)\n",
        "\n",
        "# Display the DataFrame\n",
        "print(\"Original DataFrame:\")\n",
        "print(df)\n",
        "\n",
        "# Get information about the DataFrame\n",
        "print(\"\\nDataFrame Info:\")\n",
        "df.info()\n",
        "\n",
        "# Get descriptive statistics\n",
        "print(\"\\nDescriptive Statistics:\")\n",
        "print(df.describe())\n",
        "\n",
        "# Get the shape of the DataFrame\n",
        "print(\"\\nShape of the DataFrame:\", df.shape)\n",
        "\n",
        "# Get the columns of the DataFrame\n",
        "print(\"\\nColumns of the DataFrame:\", df.columns)"
      ],
      "execution_count": 2,
      "outputs": [
        {
          "output_type": "stream",
          "name": "stdout",
          "text": [
            "Original DataFrame:\n",
            "   col1 col2\n",
            "0     1    A\n",
            "1     2    B\n",
            "2     3    C\n",
            "3     4    D\n",
            "\n",
            "DataFrame Info:\n",
            "<class 'pandas.core.frame.DataFrame'>\n",
            "RangeIndex: 4 entries, 0 to 3\n",
            "Data columns (total 2 columns):\n",
            " #   Column  Non-Null Count  Dtype \n",
            "---  ------  --------------  ----- \n",
            " 0   col1    4 non-null      int64 \n",
            " 1   col2    4 non-null      object\n",
            "dtypes: int64(1), object(1)\n",
            "memory usage: 196.0+ bytes\n",
            "\n",
            "Descriptive Statistics:\n",
            "           col1\n",
            "count  4.000000\n",
            "mean   2.500000\n",
            "std    1.290994\n",
            "min    1.000000\n",
            "25%    1.750000\n",
            "50%    2.500000\n",
            "75%    3.250000\n",
            "max    4.000000\n",
            "\n",
            "Shape of the DataFrame: (4, 2)\n",
            "\n",
            "Columns of the DataFrame: Index(['col1', 'col2'], dtype='object')\n"
          ]
        }
      ]
    },
    {
      "cell_type": "markdown",
      "metadata": {
        "id": "2c716963"
      },
      "source": [
        "### Converting Arrays to DataFrames\n",
        "\n",
        "You can easily convert NumPy arrays into pandas DataFrames."
      ]
    },
    {
      "cell_type": "code",
      "metadata": {
        "colab": {
          "base_uri": "https://localhost:8080/"
        },
        "id": "5a98f391",
        "outputId": "593f882d-3534-44db-dec4-b484ebd03380"
      },
      "source": [
        "# Create a NumPy array\n",
        "np_array = np.array([[10, 20, 30], [40, 50, 60]])\n",
        "\n",
        "# Convert NumPy array to DataFrame\n",
        "df_from_array = pd.DataFrame(np_array, columns=['ColA', 'ColB', 'ColC'])\n",
        "\n",
        "# Display the new DataFrame\n",
        "print(\"DataFrame from NumPy array:\")\n",
        "print(df_from_array)"
      ],
      "execution_count": 3,
      "outputs": [
        {
          "output_type": "stream",
          "name": "stdout",
          "text": [
            "DataFrame from NumPy array:\n",
            "   ColA  ColB  ColC\n",
            "0    10    20    30\n",
            "1    40    50    60\n"
          ]
        }
      ]
    },
    {
      "cell_type": "markdown",
      "metadata": {
        "id": "e9672164"
      },
      "source": [
        "### Indexing and Slicing in DataFrames\n",
        "\n",
        "Pandas provides powerful ways to select and slice data using labels (`loc`) and integer positions (`iloc`)."
      ]
    },
    {
      "cell_type": "code",
      "metadata": {
        "colab": {
          "base_uri": "https://localhost:8080/"
        },
        "id": "9deb1a35",
        "outputId": "32322c55-5068-478b-f831-b59720344bd8"
      },
      "source": [
        "# Select a single column\n",
        "print(\"Selecting a single column ('col1'):\")\n",
        "print(df['col1'])\n",
        "\n",
        "# Select multiple columns\n",
        "print(\"\\nSelecting multiple columns ('col1', 'col2'):\")\n",
        "print(df[['col1', 'col2']])\n",
        "\n",
        "# Select rows by label using .loc\n",
        "print(\"\\nSelecting rows by label (index 0 and 2) using .loc:\")\n",
        "print(df.loc[[0, 2]])\n",
        "\n",
        "# Select rows by integer position using .iloc\n",
        "print(\"\\nSelecting rows by integer position (index 1 and 3) using .iloc:\")\n",
        "print(df.iloc[[1, 3]])\n",
        "\n",
        "# Select a specific cell using .loc\n",
        "print(\"\\nSelecting a specific cell (row 1, col 'col2') using .loc:\")\n",
        "print(df.loc[1, 'col2'])\n",
        "\n",
        "# Select a specific cell using .iloc\n",
        "print(\"\\nSelecting a specific cell (row 0, col 0) using .iloc:\")\n",
        "print(df.iloc[0, 0])\n",
        "\n",
        "# Slicing rows\n",
        "print(\"\\nSlicing rows (from index 1 to 3):\")\n",
        "print(df[1:4])"
      ],
      "execution_count": 4,
      "outputs": [
        {
          "output_type": "stream",
          "name": "stdout",
          "text": [
            "Selecting a single column ('col1'):\n",
            "0    1\n",
            "1    2\n",
            "2    3\n",
            "3    4\n",
            "Name: col1, dtype: int64\n",
            "\n",
            "Selecting multiple columns ('col1', 'col2'):\n",
            "   col1 col2\n",
            "0     1    A\n",
            "1     2    B\n",
            "2     3    C\n",
            "3     4    D\n",
            "\n",
            "Selecting rows by label (index 0 and 2) using .loc:\n",
            "   col1 col2\n",
            "0     1    A\n",
            "2     3    C\n",
            "\n",
            "Selecting rows by integer position (index 1 and 3) using .iloc:\n",
            "   col1 col2\n",
            "1     2    B\n",
            "3     4    D\n",
            "\n",
            "Selecting a specific cell (row 1, col 'col2') using .loc:\n",
            "B\n",
            "\n",
            "Selecting a specific cell (row 0, col 0) using .iloc:\n",
            "1\n",
            "\n",
            "Slicing rows (from index 1 to 3):\n",
            "   col1 col2\n",
            "1     2    B\n",
            "2     3    C\n",
            "3     4    D\n"
          ]
        }
      ]
    },
    {
      "cell_type": "markdown",
      "metadata": {
        "id": "321da3a4"
      },
      "source": [
        "### Data Cleaning (Handling Missing Values)\n",
        "\n",
        "Dealing with missing data (represented as `NaN`) is a common task. Pandas provides methods to identify, remove, or fill missing values."
      ]
    },
    {
      "cell_type": "code",
      "metadata": {
        "colab": {
          "base_uri": "https://localhost:8080/"
        },
        "id": "d79b1026",
        "outputId": "61e2fd65-be4c-4554-e3f7-75da3765a7a1"
      },
      "source": [
        "# Create a DataFrame with missing values\n",
        "data_with_nan = {'col1': [1, 2, np.nan, 4],\n",
        "                 'col2': ['A', np.nan, 'C', 'D'],\n",
        "                 'col3': [True, False, True, np.nan]}\n",
        "df_nan = pd.DataFrame(data_with_nan)\n",
        "\n",
        "print(\"DataFrame with missing values:\")\n",
        "print(df_nan)\n",
        "\n",
        "# Check for missing values\n",
        "print(\"\\nMissing values per column:\")\n",
        "print(df_nan.isnull().sum())\n",
        "\n",
        "# Drop rows with any missing values\n",
        "df_dropped_rows = df_nan.dropna()\n",
        "print(\"\\nDataFrame after dropping rows with missing values:\")\n",
        "print(df_dropped_rows)\n",
        "\n",
        "# Drop columns with any missing values\n",
        "df_dropped_cols = df_nan.dropna(axis=1)\n",
        "print(\"\\nDataFrame after dropping columns with missing values:\")\n",
        "print(df_dropped_cols)\n",
        "\n",
        "# Fill missing values with a specific value\n",
        "df_filled_value = df_nan.fillna(0)\n",
        "print(\"\\nDataFrame after filling missing values with 0:\")\n",
        "print(df_filled_value)\n",
        "\n",
        "# Fill missing values with the mean of the column (for numerical data)\n",
        "df_filled_mean = df_nan.fillna(df_nan['col1'].mean())\n",
        "print(\"\\nDataFrame after filling missing values with mean of 'col1':\")\n",
        "print(df_filled_mean)"
      ],
      "execution_count": 5,
      "outputs": [
        {
          "output_type": "stream",
          "name": "stdout",
          "text": [
            "DataFrame with missing values:\n",
            "   col1 col2   col3\n",
            "0   1.0    A   True\n",
            "1   2.0  NaN  False\n",
            "2   NaN    C   True\n",
            "3   4.0    D    NaN\n",
            "\n",
            "Missing values per column:\n",
            "col1    1\n",
            "col2    1\n",
            "col3    1\n",
            "dtype: int64\n",
            "\n",
            "DataFrame after dropping rows with missing values:\n",
            "   col1 col2  col3\n",
            "0   1.0    A  True\n",
            "\n",
            "DataFrame after dropping columns with missing values:\n",
            "Empty DataFrame\n",
            "Columns: []\n",
            "Index: [0, 1, 2, 3]\n",
            "\n",
            "DataFrame after filling missing values with 0:\n",
            "   col1 col2   col3\n",
            "0   1.0    A   True\n",
            "1   2.0    0  False\n",
            "2   0.0    C   True\n",
            "3   4.0    D      0\n",
            "\n",
            "DataFrame after filling missing values with mean of 'col1':\n",
            "       col1      col2      col3\n",
            "0  1.000000         A      True\n",
            "1  2.000000  2.333333     False\n",
            "2  2.333333         C      True\n",
            "3  4.000000         D  2.333333\n"
          ]
        }
      ]
    },
    {
      "cell_type": "markdown",
      "metadata": {
        "id": "85768d29"
      },
      "source": [
        "### Data Manipulation (Columns, Sorting, Grouping)\n",
        "\n",
        "Pandas offers extensive capabilities for manipulating data within DataFrames."
      ]
    },
    {
      "cell_type": "code",
      "metadata": {
        "colab": {
          "base_uri": "https://localhost:8080/"
        },
        "id": "01196f4d",
        "outputId": "2dec383c-ab34-4860-de80-b0f90021a349"
      },
      "source": [
        "# Add a new column\n",
        "df['col3'] = [True, False, True, False]\n",
        "print(\"DataFrame after adding 'col3':\")\n",
        "print(df)\n",
        "\n",
        "# Drop a column\n",
        "df_dropped_col = df.drop('col3', axis=1)\n",
        "print(\"\\nDataFrame after dropping 'col3':\")\n",
        "print(df_dropped_col)\n",
        "\n",
        "# Sort by values in a column\n",
        "df_sorted = df.sort_values(by='col1', ascending=False)\n",
        "print(\"\\nDataFrame sorted by 'col1' descending:\")\n",
        "print(df_sorted)\n",
        "\n",
        "# Group by a column and calculate the mean\n",
        "data_for_grouping = {'Category': ['A', 'B', 'A', 'B', 'A'],\n",
        "                     'Value': [10, 15, 12, 18, 11]}\n",
        "df_group = pd.DataFrame(data_for_grouping)\n",
        "print(\"\\nDataFrame for grouping:\")\n",
        "print(df_group)\n",
        "\n",
        "grouped_data = df_group.groupby('Category')['Value'].mean()\n",
        "print(\"\\nMean 'Value' grouped by 'Category':\")\n",
        "print(grouped_data)"
      ],
      "execution_count": 6,
      "outputs": [
        {
          "output_type": "stream",
          "name": "stdout",
          "text": [
            "DataFrame after adding 'col3':\n",
            "   col1 col2   col3\n",
            "0     1    A   True\n",
            "1     2    B  False\n",
            "2     3    C   True\n",
            "3     4    D  False\n",
            "\n",
            "DataFrame after dropping 'col3':\n",
            "   col1 col2\n",
            "0     1    A\n",
            "1     2    B\n",
            "2     3    C\n",
            "3     4    D\n",
            "\n",
            "DataFrame sorted by 'col1' descending:\n",
            "   col1 col2   col3\n",
            "3     4    D  False\n",
            "2     3    C   True\n",
            "1     2    B  False\n",
            "0     1    A   True\n",
            "\n",
            "DataFrame for grouping:\n",
            "  Category  Value\n",
            "0        A     10\n",
            "1        B     15\n",
            "2        A     12\n",
            "3        B     18\n",
            "4        A     11\n",
            "\n",
            "Mean 'Value' grouped by 'Category':\n",
            "Category\n",
            "A    11.0\n",
            "B    16.5\n",
            "Name: Value, dtype: float64\n"
          ]
        }
      ]
    },
    {
      "cell_type": "markdown",
      "metadata": {
        "id": "ca959899"
      },
      "source": [
        "### Synthetic Data Generation for Practice\n",
        "\n",
        "Generating synthetic data is useful for practicing pandas operations without needing a real dataset."
      ]
    },
    {
      "cell_type": "code",
      "metadata": {
        "colab": {
          "base_uri": "https://localhost:8080/"
        },
        "id": "9452d729",
        "outputId": "28e7fc2c-fb5b-4f43-bd03-f1f9a37152e2"
      },
      "source": [
        "# Generate synthetic data\n",
        "np.random.seed(42) # for reproducibility\n",
        "synthetic_data = {\n",
        "    'ID': range(1, 101),\n",
        "    'Age': np.random.randint(18, 65, 100),\n",
        "    'Salary': np.random.randint(30000, 100000, 100),\n",
        "    'City': np.random.choice(['New York', 'Los Angeles', 'Chicago', 'Houston', 'Phoenix'], 100),\n",
        "    'Rating': np.random.uniform(1, 5, 100).round(1)\n",
        "}\n",
        "df_synthetic = pd.DataFrame(synthetic_data)\n",
        "\n",
        "print(\"First 5 rows of Synthetic DataFrame:\")\n",
        "print(df_synthetic.head())\n",
        "\n",
        "print(\"\\nInfo of Synthetic DataFrame:\")\n",
        "df_synthetic.info()"
      ],
      "execution_count": 7,
      "outputs": [
        {
          "output_type": "stream",
          "name": "stdout",
          "text": [
            "First 5 rows of Synthetic DataFrame:\n",
            "   ID  Age  Salary         City  Rating\n",
            "0   1   56   32695      Houston     2.5\n",
            "1   2   46   78190      Chicago     4.4\n",
            "2   3   32   35258      Houston     2.3\n",
            "3   4   60   69504      Chicago     1.7\n",
            "4   5   25   63159  Los Angeles     3.2\n",
            "\n",
            "Info of Synthetic DataFrame:\n",
            "<class 'pandas.core.frame.DataFrame'>\n",
            "RangeIndex: 100 entries, 0 to 99\n",
            "Data columns (total 5 columns):\n",
            " #   Column  Non-Null Count  Dtype  \n",
            "---  ------  --------------  -----  \n",
            " 0   ID      100 non-null    int64  \n",
            " 1   Age     100 non-null    int64  \n",
            " 2   Salary  100 non-null    int64  \n",
            " 3   City    100 non-null    object \n",
            " 4   Rating  100 non-null    float64\n",
            "dtypes: float64(1), int64(3), object(1)\n",
            "memory usage: 4.0+ KB\n"
          ]
        }
      ]
    }
  ]
}