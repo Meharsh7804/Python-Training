{
  "nbformat": 4,
  "nbformat_minor": 0,
  "metadata": {
    "colab": {
      "provenance": []
    },
    "kernelspec": {
      "name": "python3",
      "display_name": "Python 3"
    },
    "language_info": {
      "name": "python"
    }
  },
  "cells": [
    {
      "cell_type": "markdown",
      "metadata": {
        "id": "a21cbce8"
      },
      "source": [
        "### Lists\n",
        "\n",
        "Lists are ordered, mutable collections of items. They are defined using square brackets `[]`."
      ]
    },
    {
      "cell_type": "code",
      "metadata": {
        "colab": {
          "base_uri": "https://localhost:8080/"
        },
        "id": "2ab21b0b",
        "outputId": "7731de1b-1a38-44f2-ce87-8768ea9c91dc"
      },
      "source": [
        "# Creating a list\n",
        "my_list = [1, 2, 3, 'a', 'b', 'c']\n",
        "print(\"Original list:\", my_list)"
      ],
      "execution_count": null,
      "outputs": [
        {
          "output_type": "stream",
          "name": "stdout",
          "text": [
            "Original list: [1, 2, 3, 'a', 'b', 'c']\n"
          ]
        }
      ]
    },
    {
      "cell_type": "code",
      "source": [
        "# Accessing elements\n",
        "print(\"First element:\", my_list[0])\n",
        "print(\"Last element:\", my_list[-1])"
      ],
      "metadata": {
        "colab": {
          "base_uri": "https://localhost:8080/"
        },
        "id": "EVjxvkf_fYP8",
        "outputId": "8190f2f6-44ee-4135-ea8b-3e1f14bacb44"
      },
      "execution_count": null,
      "outputs": [
        {
          "output_type": "stream",
          "name": "stdout",
          "text": [
            "First element: 1\n",
            "Last element: c\n"
          ]
        }
      ]
    },
    {
      "cell_type": "code",
      "source": [
        "# Slicing\n",
        "print(\"Sliced list (first 3 elements):\", my_list[:3])"
      ],
      "metadata": {
        "colab": {
          "base_uri": "https://localhost:8080/"
        },
        "id": "YQZeek6Cfb8G",
        "outputId": "c4af01bf-417b-48d3-8fc8-f51093db112a"
      },
      "execution_count": null,
      "outputs": [
        {
          "output_type": "stream",
          "name": "stdout",
          "text": [
            "Sliced list (first 3 elements): [1, 2, 3]\n"
          ]
        }
      ]
    },
    {
      "cell_type": "code",
      "source": [
        "# Modifying elements\n",
        "my_list[0] = 10\n",
        "print(\"List after modifying first element:\", my_list)"
      ],
      "metadata": {
        "colab": {
          "base_uri": "https://localhost:8080/"
        },
        "id": "c5w4pb2lfe6t",
        "outputId": "5b92599f-00dc-4204-b9d7-218b7a693a50"
      },
      "execution_count": null,
      "outputs": [
        {
          "output_type": "stream",
          "name": "stdout",
          "text": [
            "List after modifying first element: [10, 2, 3, 'a', 'b', 'c']\n"
          ]
        }
      ]
    },
    {
      "cell_type": "code",
      "source": [
        "# Adding elements\n",
        "my_list.append('d')\n",
        "print(\"List after appending 'd':\", my_list)\n",
        "\n",
        "my_list.insert(1, 'z')\n",
        "print(\"List after inserting 'z' at index 1:\", my_list)"
      ],
      "metadata": {
        "colab": {
          "base_uri": "https://localhost:8080/"
        },
        "id": "S7uzuo2HfhTW",
        "outputId": "5fd68d5f-3b54-4931-e334-8154839dfab5"
      },
      "execution_count": null,
      "outputs": [
        {
          "output_type": "stream",
          "name": "stdout",
          "text": [
            "List after appending 'd': [10, 2, 3, 'a', 'b', 'c', 'd']\n",
            "List after inserting 'z' at index 1: [10, 'z', 2, 3, 'a', 'b', 'c', 'd']\n"
          ]
        }
      ]
    },
    {
      "cell_type": "code",
      "source": [
        "# Removing elements\n",
        "my_list.remove('a')\n",
        "print(\"List after removing 'a':\", my_list)\n",
        "\n",
        "my_list.pop()\n",
        "print(\"List after popping last element:\", my_list)"
      ],
      "metadata": {
        "colab": {
          "base_uri": "https://localhost:8080/"
        },
        "id": "nf3T3j27fk4t",
        "outputId": "0c2cc793-eb5a-4320-ba47-a36d045c58cd"
      },
      "execution_count": null,
      "outputs": [
        {
          "output_type": "stream",
          "name": "stdout",
          "text": [
            "List after removing 'a': [10, 'z', 2, 3, 'b', 'c', 'd']\n",
            "List after popping last element: [10, 'z', 2, 3, 'b', 'c']\n"
          ]
        }
      ]
    },
    {
      "cell_type": "code",
      "source": [
        "# Other useful methods\n",
        "print(\"Length of the list:\", len(my_list))\n",
        "print(\"Index of 'b':\", my_list.index('b'))"
      ],
      "metadata": {
        "colab": {
          "base_uri": "https://localhost:8080/"
        },
        "id": "U5xALMvwfm-X",
        "outputId": "96660ba7-df5f-49bf-9f23-1d295e1d0282"
      },
      "execution_count": null,
      "outputs": [
        {
          "output_type": "stream",
          "name": "stdout",
          "text": [
            "Length of the list: 6\n",
            "Index of 'b': 4\n"
          ]
        }
      ]
    },
    {
      "cell_type": "markdown",
      "metadata": {
        "id": "317eba55"
      },
      "source": [
        "### Sets\n",
        "\n",
        "Sets are unordered, mutable collections of unique items. They are defined using curly braces `{}` or the `set()` constructor."
      ]
    },
    {
      "cell_type": "code",
      "metadata": {
        "colab": {
          "base_uri": "https://localhost:8080/"
        },
        "id": "c7274399",
        "outputId": "e67ebaeb-f05a-4986-8918-33c3d1080c39"
      },
      "source": [
        "# Creating a set\n",
        "my_set = {1, 2, 3, 3, 4, 5, 5}\n",
        "print(\"Original set:\", my_set) # Duplicate elements are automatically removed"
      ],
      "execution_count": null,
      "outputs": [
        {
          "output_type": "stream",
          "name": "stdout",
          "text": [
            "Original set: {1, 2, 3, 4, 5}\n"
          ]
        }
      ]
    },
    {
      "cell_type": "code",
      "source": [
        "# Adding elements\n",
        "my_set.add(6)\n",
        "print(\"Set after adding 6:\", my_set)"
      ],
      "metadata": {
        "colab": {
          "base_uri": "https://localhost:8080/"
        },
        "id": "EDwhi2Lmfs2v",
        "outputId": "5b09cb63-d937-456a-c1cb-1a45c1695678"
      },
      "execution_count": null,
      "outputs": [
        {
          "output_type": "stream",
          "name": "stdout",
          "text": [
            "Set after adding 6: {1, 2, 3, 4, 5, 6}\n"
          ]
        }
      ]
    },
    {
      "cell_type": "code",
      "source": [
        "# Removing elements\n",
        "my_set.remove(1)\n",
        "print(\"Set after removing 1:\", my_set)\n",
        "\n",
        "my_set.discard(10) # discard does not raise an error if element is not found\n",
        "print(\"Set after discarding 10:\", my_set)"
      ],
      "metadata": {
        "colab": {
          "base_uri": "https://localhost:8080/"
        },
        "id": "dVEZu01WfwUA",
        "outputId": "c1fb7059-64d8-4810-9a3b-8a76ccf0be93"
      },
      "execution_count": null,
      "outputs": [
        {
          "output_type": "stream",
          "name": "stdout",
          "text": [
            "Set after removing 1: {2, 3, 4, 5, 6}\n",
            "Set after discarding 10: {2, 3, 4, 5, 6}\n"
          ]
        }
      ]
    },
    {
      "cell_type": "code",
      "source": [
        "# Set operations\n",
        "set1 = {1, 2, 3, 4}\n",
        "set2 = {3, 4, 5, 6}\n",
        "\n",
        "print(\"Union of set1 and set2:\", set1.union(set2))\n",
        "print(\"Intersection of set1 and set2:\", set1.intersection(set2))\n",
        "print(\"Difference of set1 and set2:\", set1.difference(set2))"
      ],
      "metadata": {
        "colab": {
          "base_uri": "https://localhost:8080/"
        },
        "id": "y65R2nQRfzx0",
        "outputId": "6c66013e-0172-49b5-bbdc-57b9ace92235"
      },
      "execution_count": null,
      "outputs": [
        {
          "output_type": "stream",
          "name": "stdout",
          "text": [
            "Union of set1 and set2: {1, 2, 3, 4, 5, 6}\n",
            "Intersection of set1 and set2: {3, 4}\n",
            "Difference of set1 and set2: {1, 2}\n"
          ]
        }
      ]
    },
    {
      "cell_type": "markdown",
      "metadata": {
        "id": "7ad51bb3"
      },
      "source": [
        "### Tuples\n",
        "\n",
        "Tuples are ordered, immutable collections of items. They are defined using parentheses `()`. Once created, the elements of a tuple cannot be changed."
      ]
    },
    {
      "cell_type": "code",
      "metadata": {
        "colab": {
          "base_uri": "https://localhost:8080/"
        },
        "id": "0b061ca8",
        "outputId": "c561c3de-cbf1-4737-f2d5-8ad865c01059"
      },
      "source": [
        "# Creating a tuple\n",
        "my_tuple = (1, 2, 3, 'a', 'b', 'c')\n",
        "print(\"Original tuple:\", my_tuple)"
      ],
      "execution_count": null,
      "outputs": [
        {
          "output_type": "stream",
          "name": "stdout",
          "text": [
            "Original tuple: (1, 2, 3, 'a', 'b', 'c')\n"
          ]
        }
      ]
    },
    {
      "cell_type": "code",
      "source": [
        "# Accessing elements\n",
        "print(\"First element:\", my_tuple[0])\n",
        "print(\"Last element:\", my_tuple[-1])"
      ],
      "metadata": {
        "colab": {
          "base_uri": "https://localhost:8080/"
        },
        "id": "2TY4yqBEf4SZ",
        "outputId": "3f014baa-71b1-42bb-b5f1-38d593d7aeaa"
      },
      "execution_count": null,
      "outputs": [
        {
          "output_type": "stream",
          "name": "stdout",
          "text": [
            "First element: 1\n",
            "Last element: c\n"
          ]
        }
      ]
    },
    {
      "cell_type": "code",
      "source": [
        "# Slicing\n",
        "print(\"Sliced tuple (first 3 elements):\", my_tuple[:3])"
      ],
      "metadata": {
        "colab": {
          "base_uri": "https://localhost:8080/"
        },
        "id": "QqH6hbNSf6ma",
        "outputId": "792eeb73-5c89-42b7-d270-bd4472e40d28"
      },
      "execution_count": null,
      "outputs": [
        {
          "output_type": "stream",
          "name": "stdout",
          "text": [
            "Sliced tuple (first 3 elements): (1, 2, 3)\n"
          ]
        }
      ]
    },
    {
      "cell_type": "code",
      "source": [
        "# Note: Tuples are immutable, so you cannot modify, add, or remove elements after creation.\n",
        "# Other useful methods\n",
        "print(\"Length of the tuple:\", len(my_tuple))\n",
        "print(\"Count of 'a':\", my_tuple.count('a'))\n",
        "print(\"Index of 'b':\", my_tuple.index('b'))"
      ],
      "metadata": {
        "colab": {
          "base_uri": "https://localhost:8080/"
        },
        "id": "6WISmuugf8Zq",
        "outputId": "de0411cb-8497-426d-946a-14415ac477ef"
      },
      "execution_count": null,
      "outputs": [
        {
          "output_type": "stream",
          "name": "stdout",
          "text": [
            "Length of the tuple: 6\n",
            "Count of 'a': 1\n",
            "Index of 'b': 4\n"
          ]
        }
      ]
    },
    {
      "cell_type": "markdown",
      "metadata": {
        "id": "5d5c6631"
      },
      "source": [
        "### Dictionaries\n",
        "\n",
        "Dictionaries are unordered, mutable collections of key-value pairs. They are defined using curly braces `{}` with key: value pairs. Keys must be unique and immutable."
      ]
    },
    {
      "cell_type": "code",
      "metadata": {
        "colab": {
          "base_uri": "https://localhost:8080/"
        },
        "id": "de579ce6",
        "outputId": "4b3907b8-4110-4a16-c6a0-5e7359eb8afa"
      },
      "source": [
        "# Creating a dictionary\n",
        "my_dict = {'name': 'Meharsh', 'age': 21, 'city': 'Nagpur'}\n",
        "print(\"Original dictionary:\", my_dict)"
      ],
      "execution_count": null,
      "outputs": [
        {
          "output_type": "stream",
          "name": "stdout",
          "text": [
            "Original dictionary: {'name': 'Meharsh', 'age': 21, 'city': 'Nagpur'}\n"
          ]
        }
      ]
    },
    {
      "cell_type": "code",
      "source": [
        "# Accessing values\n",
        "print(\"Name:\", my_dict['name'])\n",
        "print(\"Age:\", my_dict.get('age')) # Using get() is safer as it returns None if key is not found"
      ],
      "metadata": {
        "colab": {
          "base_uri": "https://localhost:8080/"
        },
        "id": "vLv0wn3Zf_YM",
        "outputId": "6798b188-ba37-41de-f23b-d47e5570bcbb"
      },
      "execution_count": null,
      "outputs": [
        {
          "output_type": "stream",
          "name": "stdout",
          "text": [
            "Name: Meharsh\n",
            "Age: 21\n"
          ]
        }
      ]
    },
    {
      "cell_type": "code",
      "source": [
        "# Adding or modifying key-value pairs\n",
        "my_dict['job'] = 'Engineer'\n",
        "print(\"Dictionary after adding 'job':\", my_dict)\n",
        "\n",
        "my_dict['age'] = 31\n",
        "print(\"Dictionary after modifying 'age':\", my_dict)"
      ],
      "metadata": {
        "colab": {
          "base_uri": "https://localhost:8080/"
        },
        "id": "pljK7KizgBw-",
        "outputId": "f5671925-3458-4395-81a4-de5833a7e8ea"
      },
      "execution_count": null,
      "outputs": [
        {
          "output_type": "stream",
          "name": "stdout",
          "text": [
            "Dictionary after adding 'job': {'name': 'Meharsh', 'age': 21, 'city': 'Nagpur', 'job': 'Engineer'}\n",
            "Dictionary after modifying 'age': {'name': 'Meharsh', 'age': 31, 'city': 'Nagpur', 'job': 'Engineer'}\n"
          ]
        }
      ]
    },
    {
      "cell_type": "code",
      "source": [
        "# Removing key-value pairs\n",
        "my_dict.pop('city')\n",
        "print(\"Dictionary after removing 'city':\", my_dict)"
      ],
      "metadata": {
        "colab": {
          "base_uri": "https://localhost:8080/"
        },
        "id": "l_RGAdrkgDjW",
        "outputId": "eda14fd6-e763-4ac7-e5e4-7ef5ee60f676"
      },
      "execution_count": null,
      "outputs": [
        {
          "output_type": "stream",
          "name": "stdout",
          "text": [
            "Dictionary after removing 'city': {'name': 'Meharsh', 'age': 31, 'job': 'Engineer'}\n"
          ]
        }
      ]
    },
    {
      "cell_type": "code",
      "source": [
        "# Other useful methods\n",
        "print(\"Dictionary keys:\", my_dict.keys())\n",
        "print(\"Dictionary values:\", my_dict.values())\n",
        "print(\"Dictionary items:\", my_dict.items())"
      ],
      "metadata": {
        "colab": {
          "base_uri": "https://localhost:8080/"
        },
        "id": "tcxobZZGgFBN",
        "outputId": "85c5b381-ff62-4c16-e0a3-f8e436e3e4b9"
      },
      "execution_count": null,
      "outputs": [
        {
          "output_type": "stream",
          "name": "stdout",
          "text": [
            "Dictionary keys: dict_keys(['name', 'age', 'job'])\n",
            "Dictionary values: dict_values(['Meharsh', 31, 'Engineer'])\n",
            "Dictionary items: dict_items([('name', 'Meharsh'), ('age', 31), ('job', 'Engineer')])\n"
          ]
        }
      ]
    }
  ]
}