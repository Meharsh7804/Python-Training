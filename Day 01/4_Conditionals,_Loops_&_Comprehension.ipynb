{
  "nbformat": 4,
  "nbformat_minor": 0,
  "metadata": {
    "colab": {
      "provenance": []
    },
    "kernelspec": {
      "name": "python3",
      "display_name": "Python 3"
    },
    "language_info": {
      "name": "python"
    }
  },
  "cells": [
    {
      "cell_type": "markdown",
      "source": [
        "## Conditionals (`if`, `elif`, `else`)\n",
        "\n",
        "Conditional statements in Python allow you to execute different blocks of code based on whether certain conditions are true or false.\n",
        "\n",
        "*   **`if`**: Executes a block of code if a condition is true.\n",
        "*   **`elif`**: (short for \"else if\") Checks another condition if the previous `if` or `elif` conditions were false.\n",
        "*   **`else`**: Executes a block of code if none of the preceding `if` or `elif` conditions are true."
      ],
      "metadata": {
        "id": "rE5ip9pdsRa7"
      }
    },
    {
      "cell_type": "code",
      "metadata": {
        "colab": {
          "base_uri": "https://localhost:8080/"
        },
        "id": "25c90bbb",
        "outputId": "37537207-7883-44be-ae1d-00aa9526f843"
      },
      "source": [
        "# Conditionals (if, elif, else)\n",
        "x = 7\n",
        "if x > 5:\n",
        "    print(\"x is greater than 5\")\n",
        "elif x == 5:\n",
        "    print(\"x is equal to 5\")\n",
        "else:\n",
        "    print(\"x is less than 5\")"
      ],
      "execution_count": null,
      "outputs": [
        {
          "output_type": "stream",
          "name": "stdout",
          "text": [
            "x is greater than 5\n"
          ]
        }
      ]
    },
    {
      "cell_type": "markdown",
      "source": [
        "## Loops (`for`, `while`)\n",
        "\n",
        "Loops are used to repeatedly execute a block of code.\n",
        "\n",
        "*   **`for` loop**: Iterates over a sequence (like a list, tuple, string, or range) and executes the code block for each item in the sequence.\n",
        "*   **`while` loop**: Executes a block of code as long as a given condition is true. You need to be careful to include a condition that will eventually become false to avoid infinite loops."
      ],
      "metadata": {
        "id": "TVr6Jcf2sUX6"
      }
    },
    {
      "cell_type": "code",
      "source": [
        "# For loop\n",
        "print(\"For loop:\")\n",
        "cities = [\"nagpur\", \"mumbai\", \"delhi\"]\n",
        "for city in cities:\n",
        "    print(city)\n",
        "\n",
        "# While loop\n",
        "print(\"\\nWhile loop:\")\n",
        "count = 0\n",
        "while count < 3:\n",
        "    print(count)\n",
        "    count += 1"
      ],
      "metadata": {
        "colab": {
          "base_uri": "https://localhost:8080/"
        },
        "id": "8FxiMEbBrhAp",
        "outputId": "aeeb5919-6ee0-477d-8170-1914a505f9d3"
      },
      "execution_count": null,
      "outputs": [
        {
          "output_type": "stream",
          "name": "stdout",
          "text": [
            "For loop:\n",
            "nagpur\n",
            "mumbai\n",
            "delhi\n",
            "\n",
            "While loop:\n",
            "0\n",
            "1\n",
            "2\n"
          ]
        }
      ]
    },
    {
      "cell_type": "markdown",
      "source": [
        "## Loop Control Statements (`break`, `continue`, `pass`)\n",
        "\n",
        "These statements allow you to alter the flow of loops.\n",
        "\n",
        "*   **`break`**: Terminates the loop entirely.\n",
        "*   **`continue`**: Skips the rest of the current iteration and moves to the next iteration of the loop.\n",
        "*   **`pass`**: A null operation; nothing happens when it is executed. It is often used as a placeholder where a statement is syntactically required but you don't want to execute any code."
      ],
      "metadata": {
        "id": "3cMafUEPtZe8"
      }
    },
    {
      "cell_type": "code",
      "metadata": {
        "colab": {
          "base_uri": "https://localhost:8080/"
        },
        "id": "c485a84a",
        "outputId": "85fc979e-63fe-4441-a029-fec74c065e24"
      },
      "source": [
        "# Loop Control Statements (break, continue, pass)\n",
        "# break: Exits the loop entirely\n",
        "print(\"break example:\")\n",
        "for i in range(5):\n",
        "    if i == 3:\n",
        "        break\n",
        "    print(i)\n",
        "\n",
        "# continue: Skips the rest of the current iteration and goes to the next\n",
        "print(\"\\ncontinue example:\")\n",
        "for i in range(5):\n",
        "    if i == 2:\n",
        "        continue\n",
        "    print(i)\n",
        "\n",
        "# pass: Does nothing, used as a placeholder\n",
        "print(\"\\npass example:\")\n",
        "for i in range(5):\n",
        "    if i == 4:\n",
        "        pass  # Do nothing when i is 4\n",
        "    print(i)"
      ],
      "execution_count": null,
      "outputs": [
        {
          "output_type": "stream",
          "name": "stdout",
          "text": [
            "break example:\n",
            "0\n",
            "1\n",
            "2\n",
            "\n",
            "continue example:\n",
            "0\n",
            "1\n",
            "3\n",
            "4\n",
            "\n",
            "pass example:\n",
            "0\n",
            "1\n",
            "2\n",
            "3\n",
            "4\n"
          ]
        }
      ]
    },
    {
      "cell_type": "markdown",
      "source": [
        "## Comprehensions (List, Dictionary, Set)\n",
        "\n",
        "Comprehensions provide a concise way to create lists, dictionaries, and sets. They often result in shorter and more readable code compared to traditional loops for the same purpose.\n",
        "\n",
        "*   **List comprehension**: Creates a new list from an existing iterable.\n",
        "*   **Dictionary comprehension**: Creates a new dictionary from an iterable, specifying key-value pairs.\n",
        "*   **Set comprehension**: Creates a new set from an iterable, automatically removing duplicate elements."
      ],
      "metadata": {
        "id": "y_TNT-9msW-Q"
      }
    },
    {
      "cell_type": "code",
      "source": [
        "# Comprehensions (List, Dictionary, Set)\n",
        "# List comprehension\n",
        "print(\"List comprehension:\")\n",
        "squares = [i**2 for i in range(5)]\n",
        "print(squares)\n",
        "\n",
        "# Dictionary comprehension\n",
        "print(\"\\nDictionary comprehension:\")\n",
        "square_dict = {i: i**2 for i in range(5)}\n",
        "print(square_dict)\n",
        "\n",
        "# Set comprehension\n",
        "print(\"\\nSet comprehension:\")\n",
        "even_numbers = {i for i in range(10) if i % 2 == 0}\n",
        "print(even_numbers)"
      ],
      "metadata": {
        "colab": {
          "base_uri": "https://localhost:8080/"
        },
        "id": "Dw3nUbLMri2k",
        "outputId": "748abd57-7d16-4c2d-cf2d-48d4fdcb76da"
      },
      "execution_count": null,
      "outputs": [
        {
          "output_type": "stream",
          "name": "stdout",
          "text": [
            "List comprehension:\n",
            "[0, 1, 4, 9, 16]\n",
            "\n",
            "Dictionary comprehension:\n",
            "{0: 0, 1: 1, 2: 4, 3: 9, 4: 16}\n",
            "\n",
            "Set comprehension:\n",
            "{0, 2, 4, 6, 8}\n"
          ]
        }
      ]
    }
  ]
}