{
  "nbformat": 4,
  "nbformat_minor": 0,
  "metadata": {
    "colab": {
      "provenance": []
    },
    "kernelspec": {
      "name": "python3",
      "display_name": "Python 3"
    },
    "language_info": {
      "name": "python"
    }
  },
  "cells": [
    {
      "cell_type": "markdown",
      "metadata": {
        "id": "bc5f5542"
      },
      "source": [
        "Let's start with handling text files (.txt)."
      ]
    },
    {
      "cell_type": "code",
      "metadata": {
        "id": "38606664"
      },
      "source": [
        "# Write to a text file\n",
        "with open('example.txt', 'w') as f:\n",
        "    f.write('This is a text file.\\n')\n",
        "    f.write('It has multiple lines.\\n')"
      ],
      "execution_count": null,
      "outputs": []
    },
    {
      "cell_type": "code",
      "source": [
        "# Read from a text file\n",
        "with open('example.txt', 'r') as f:\n",
        "    content = f.read()\n",
        "    print(\"Content of example.txt:\")\n",
        "    print(content)"
      ],
      "metadata": {
        "colab": {
          "base_uri": "https://localhost:8080/"
        },
        "id": "uLGp-rp6giBp",
        "outputId": "0a787006-91fd-4ef3-bd27-be1c339dae83"
      },
      "execution_count": null,
      "outputs": [
        {
          "output_type": "stream",
          "name": "stdout",
          "text": [
            "Content of example.txt:\n",
            "This is a text file.\n",
            "It has multiple lines.\n",
            "\n"
          ]
        }
      ]
    },
    {
      "cell_type": "markdown",
      "metadata": {
        "id": "9ca82728"
      },
      "source": [
        "Next, let's look at handling CSV files (.csv) using the `csv` module."
      ]
    },
    {
      "cell_type": "code",
      "metadata": {
        "id": "0ef393eb"
      },
      "source": [
        "import csv\n",
        "\n",
        "# Write to a CSV file\n",
        "data = [['Name', 'Age'], ['Meharsh', 21], ['Nikunj', 22]]\n",
        "with open('example.csv', 'w', newline='') as f:\n",
        "    writer = csv.writer(f)\n",
        "    writer.writerows(data)"
      ],
      "execution_count": null,
      "outputs": []
    },
    {
      "cell_type": "code",
      "source": [
        "# Read from a CSV file\n",
        "with open('example.csv', 'r') as f:\n",
        "    reader = csv.reader(f)\n",
        "    csv_data = list(reader)\n",
        "    print(\"\\nContent of example.csv:\")\n",
        "    for row in csv_data:\n",
        "        print(row)"
      ],
      "metadata": {
        "colab": {
          "base_uri": "https://localhost:8080/"
        },
        "id": "H7OPaEeXgq4D",
        "outputId": "7286eec7-46c7-4460-cd31-377bfc641ac7"
      },
      "execution_count": null,
      "outputs": [
        {
          "output_type": "stream",
          "name": "stdout",
          "text": [
            "\n",
            "Content of example.csv:\n",
            "['Name', 'Age']\n",
            "['Meharsh', '21']\n",
            "['Nikunj', '22']\n"
          ]
        }
      ]
    },
    {
      "cell_type": "markdown",
      "metadata": {
        "id": "a0f2e5d6"
      },
      "source": [
        "Now, let's handle JSON files (.json) using the `json` module."
      ]
    },
    {
      "cell_type": "code",
      "metadata": {
        "id": "513be616"
      },
      "source": [
        "import json\n",
        "\n",
        "# Write to a JSON file\n",
        "data = {'name': 'Meharsh', 'age': 21, 'isStudent': False}\n",
        "with open('example.json', 'w') as f:\n",
        "    json.dump(data, f, indent=4)"
      ],
      "execution_count": null,
      "outputs": []
    },
    {
      "cell_type": "code",
      "source": [
        "# Read from a JSON file\n",
        "with open('example.json', 'r') as f:\n",
        "    json_data = json.load(f)\n",
        "    print(\"\\nContent of example.json:\")\n",
        "    print(json_data)"
      ],
      "metadata": {
        "colab": {
          "base_uri": "https://localhost:8080/"
        },
        "id": "WNkqonRqgx2x",
        "outputId": "7dbdc086-d168-4b7e-e518-442a869dd595"
      },
      "execution_count": null,
      "outputs": [
        {
          "output_type": "stream",
          "name": "stdout",
          "text": [
            "\n",
            "Content of example.json:\n",
            "{'name': 'Meharsh', 'age': 21, 'isStudent': False}\n"
          ]
        }
      ]
    },
    {
      "cell_type": "markdown",
      "metadata": {
        "id": "b8de276a"
      },
      "source": [
        "Finally, let's handle XML files (.xml) using the `xml.etree.ElementTree` module."
      ]
    },
    {
      "cell_type": "code",
      "metadata": {
        "id": "2d10765a"
      },
      "source": [
        "import xml.etree.ElementTree as ET\n",
        "\n",
        "# Create an XML structure\n",
        "root = ET.Element('data')\n",
        "item1 = ET.SubElement(root, 'item')\n",
        "name1 = ET.SubElement(item1, 'name')\n",
        "name1.text = 'Meharsh'\n",
        "age1 = ET.SubElement(item1, 'age')\n",
        "age1.text = '21'\n",
        "\n",
        "item2 = ET.SubElement(root, 'item')\n",
        "name2 = ET.SubElement(item2, 'name')\n",
        "name2.text = 'Nikunj'\n",
        "age2 = ET.SubElement(item2, 'age')\n",
        "age2.text = '22'\n",
        "\n",
        "# Write to an XML file\n",
        "tree = ET.ElementTree(root)\n",
        "tree.write('example.xml')"
      ],
      "execution_count": null,
      "outputs": []
    },
    {
      "cell_type": "code",
      "source": [
        "# Read from an XML file\n",
        "tree = ET.parse('example.xml')\n",
        "root = tree.getroot()\n",
        "\n",
        "print(\"\\nContent of example.xml:\")\n",
        "for item in root.findall('item'):\n",
        "    name = item.find('name').text\n",
        "    age = item.find('age').text\n",
        "    print(f\"Name: {name}, Age: {age}\")"
      ],
      "metadata": {
        "colab": {
          "base_uri": "https://localhost:8080/"
        },
        "id": "w1UObrcGg65s",
        "outputId": "9b9562a9-1778-4b72-d965-35dfc73dea85"
      },
      "execution_count": null,
      "outputs": [
        {
          "output_type": "stream",
          "name": "stdout",
          "text": [
            "\n",
            "Content of example.xml:\n",
            "Name: Meharsh, Age: 21\n",
            "Name: Nikunj, Age: 22\n"
          ]
        }
      ]
    }
  ]
}