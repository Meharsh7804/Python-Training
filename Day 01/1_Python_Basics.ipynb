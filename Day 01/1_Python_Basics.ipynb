{
  "nbformat": 4,
  "nbformat_minor": 0,
  "metadata": {
    "colab": {
      "provenance": []
    },
    "kernelspec": {
      "name": "python3",
      "display_name": "Python 3"
    },
    "language_info": {
      "name": "python"
    }
  },
  "cells": [
    {
      "cell_type": "markdown",
      "metadata": {
        "id": "ec8c8e69"
      },
      "source": [
        "Function in Python for displaying output: `print()`."
      ]
    },
    {
      "cell_type": "code",
      "metadata": {
        "colab": {
          "base_uri": "https://localhost:8080/"
        },
        "id": "7f41b1fe",
        "outputId": "cde54e7e-fc08-4c66-d874-d90b439335e8"
      },
      "source": [
        "# The print() function is used to display output to the console.\n",
        "print(\"Hello, World!\") # Printing a simple string"
      ],
      "execution_count": null,
      "outputs": [
        {
          "output_type": "stream",
          "name": "stdout",
          "text": [
            "Hello, World!\n"
          ]
        }
      ]
    },
    {
      "cell_type": "code",
      "source": [
        "print(123) # Printing a number"
      ],
      "metadata": {
        "colab": {
          "base_uri": "https://localhost:8080/"
        },
        "id": "sZGsE1JeZ9qK",
        "outputId": "2d31e7da-0a3d-4c23-cbbc-7eff8d828a4a"
      },
      "execution_count": null,
      "outputs": [
        {
          "output_type": "stream",
          "name": "stdout",
          "text": [
            "123\n"
          ]
        }
      ]
    },
    {
      "cell_type": "code",
      "source": [
        "print(\"The sum of 2 and 3 is:\", 2 + 3) # Printing a string and an expression result"
      ],
      "metadata": {
        "colab": {
          "base_uri": "https://localhost:8080/"
        },
        "id": "sUbAbN5gaCYJ",
        "outputId": "c138eeeb-f571-4f3f-e529-7e6e4aa77467"
      },
      "execution_count": null,
      "outputs": [
        {
          "output_type": "stream",
          "name": "stdout",
          "text": [
            "The sum of 2 and 3 is: 5\n"
          ]
        }
      ]
    },
    {
      "cell_type": "markdown",
      "metadata": {
        "id": "2d0c3244"
      },
      "source": [
        "Variables are used to store data values. You don't need to declare their type before using them."
      ]
    },
    {
      "cell_type": "code",
      "metadata": {
        "colab": {
          "base_uri": "https://localhost:8080/"
        },
        "id": "2095a373",
        "outputId": "ed0374c8-f990-4996-c6cb-8699f531f058"
      },
      "source": [
        "# Assigning values to variables\n",
        "name = \"Meharsh\"\n",
        "age = 21\n",
        "height = 6.3 # This is a float (decimal number)\n",
        "is_student = True # This is a boolean value (True or False)\n",
        "\n",
        "# Printing variables\n",
        "print(\"Name:\", name)\n",
        "print(\"Age:\", age)\n",
        "print(\"Height:\", height)\n",
        "print(\"Is student:\", is_student)"
      ],
      "execution_count": null,
      "outputs": [
        {
          "output_type": "stream",
          "name": "stdout",
          "text": [
            "Name: Meharsh\n",
            "Age: 21\n",
            "Height: 6.3\n",
            "Is student: True\n"
          ]
        }
      ]
    },
    {
      "cell_type": "markdown",
      "metadata": {
        "id": "ed409cad"
      },
      "source": [
        "Python supports various data types. Here are some common ones:"
      ]
    },
    {
      "cell_type": "code",
      "metadata": {
        "colab": {
          "base_uri": "https://localhost:8080/"
        },
        "id": "7cd121ac",
        "outputId": "6b4ac2b1-3b77-4947-fd70-24fef0faca58"
      },
      "source": [
        "# String (text)\n",
        "my_string = \"This is a string.\"\n",
        "print(\"Type of my_string:\", type(my_string))\n",
        "\n",
        "# Integer (whole number)\n",
        "my_integer = 7\n",
        "print(\"Type of my_integer:\", type(my_integer))\n",
        "\n",
        "# Float (decimal number)\n",
        "my_float = 14.56\n",
        "print(\"Type of my_float:\", type(my_float))\n",
        "\n",
        "# Boolean (True or False)\n",
        "my_boolean = False\n",
        "print(\"Type of my_boolean:\", type(my_boolean))\n",
        "\n",
        "# List (ordered collection of items)\n",
        "my_list = [1, 2, 3, \"nagpur\", \"delhi\"]\n",
        "print(\"Type of my_list:\", type(my_list))\n",
        "\n",
        "# Tuple (ordered, immutable collection of items)\n",
        "my_tuple = (4, 5, 6)\n",
        "print(\"Type of my_tuple:\", type(my_tuple))\n",
        "\n",
        "# Dictionary (unordered collection of key-value pairs)\n",
        "my_dict = {\"name\": \"Meharsh\", \"age\": 21}\n",
        "print(\"Type of my_dict:\", type(my_dict))\n",
        "\n",
        "# Set (unordered collection of unique items)\n",
        "my_set = {1, 2, 3, 3}\n",
        "print(\"Type of my_set:\", type(my_set))"
      ],
      "execution_count": null,
      "outputs": [
        {
          "output_type": "stream",
          "name": "stdout",
          "text": [
            "Type of my_string: <class 'str'>\n",
            "Type of my_integer: <class 'int'>\n",
            "Type of my_float: <class 'float'>\n",
            "Type of my_boolean: <class 'bool'>\n",
            "Type of my_list: <class 'list'>\n",
            "Type of my_tuple: <class 'tuple'>\n",
            "Type of my_dict: <class 'dict'>\n",
            "Type of my_set: <class 'set'>\n"
          ]
        }
      ]
    },
    {
      "cell_type": "markdown",
      "metadata": {
        "id": "be2477cb"
      },
      "source": [
        "Basic arithmetic operations are straightforward in Python."
      ]
    },
    {
      "cell_type": "code",
      "metadata": {
        "colab": {
          "base_uri": "https://localhost:8080/"
        },
        "id": "8b147783",
        "outputId": "7faca58b-c28d-4830-ac16-cff80e9f37a4"
      },
      "source": [
        "# Arithmetic operations\n",
        "a = 21\n",
        "b = 7\n",
        "\n",
        "print(\"Addition:\", a + b)\n",
        "print(\"Subtraction:\", a - b)\n",
        "print(\"Multiplication:\", a * b)\n",
        "print(\"Division:\", a / b) # Float division\n",
        "print(\"Floor Division:\", a // b) # Integer division\n",
        "print(\"Modulo (remainder):\", a % b)\n",
        "print(\"Exponentiation:\", a ** b)"
      ],
      "execution_count": null,
      "outputs": [
        {
          "output_type": "stream",
          "name": "stdout",
          "text": [
            "Addition: 28\n",
            "Subtraction: 14\n",
            "Multiplication: 147\n",
            "Division: 3.0\n",
            "Floor Division: 3\n",
            "Modulo (remainder): 0\n",
            "Exponentiation: 1801088541\n"
          ]
        }
      ]
    },
    {
      "cell_type": "markdown",
      "metadata": {
        "id": "fa4465cf"
      },
      "source": [
        "Conditional statements (`if`, `elif`, `else`) are used to execute code based on certain conditions."
      ]
    },
    {
      "cell_type": "code",
      "metadata": {
        "colab": {
          "base_uri": "https://localhost:8080/"
        },
        "id": "41b8d523",
        "outputId": "9898384d-3375-4050-832a-aef2995ce1e9"
      },
      "source": [
        "# Conditional statements\n",
        "x = 20\n",
        "\n",
        "if x > 15:\n",
        "  print(\"x is greater than 15\")\n",
        "elif x == 15:\n",
        "  print(\"x is equal to 15\")\n",
        "else:\n",
        "  print(\"x is less than 15\")"
      ],
      "execution_count": null,
      "outputs": [
        {
          "output_type": "stream",
          "name": "stdout",
          "text": [
            "x is greater than 15\n"
          ]
        }
      ]
    },
    {
      "cell_type": "markdown",
      "metadata": {
        "id": "58a04614"
      },
      "source": [
        "Loops are used to execute a block of code repeatedly. Common loops are `for` and `while`."
      ]
    },
    {
      "cell_type": "code",
      "metadata": {
        "colab": {
          "base_uri": "https://localhost:8080/"
        },
        "id": "c0b658ae",
        "outputId": "441f27c6-20f1-48fc-9158-dc1dc9e7ae66"
      },
      "source": [
        "# For loop\n",
        "print(\"For loop example:\")\n",
        "cities = [\"nagpur\", \"delhi\", \"mumbai\"]\n",
        "for city in cities:\n",
        "  print(city)\n",
        "\n",
        "# While loop\n",
        "print(\"\\nWhile loop example:\")\n",
        "count = 0\n",
        "while count < 5:\n",
        "  print(count)\n",
        "  count += 1"
      ],
      "execution_count": null,
      "outputs": [
        {
          "output_type": "stream",
          "name": "stdout",
          "text": [
            "For loop example:\n",
            "nagpur\n",
            "delhi\n",
            "mumbai\n",
            "\n",
            "While loop example:\n",
            "0\n",
            "1\n",
            "2\n",
            "3\n",
            "4\n"
          ]
        }
      ]
    },
    {
      "cell_type": "markdown",
      "metadata": {
        "id": "335cfa1f"
      },
      "source": [
        "Functions are blocks of reusable code that perform a specific task."
      ]
    },
    {
      "cell_type": "code",
      "metadata": {
        "colab": {
          "base_uri": "https://localhost:8080/"
        },
        "id": "1622fb3f",
        "outputId": "25b55ac6-09a2-4aff-e3e3-058334ec8a4d"
      },
      "source": [
        "# Defining a function\n",
        "def greet(name):\n",
        "  \"\"\"This function greets the person passed in as a parameter.\"\"\"\n",
        "  print(\"Hello, \" + name + \"!\")\n",
        "\n",
        "# Calling the function\n",
        "greet(\"Meharsh\")"
      ],
      "execution_count": null,
      "outputs": [
        {
          "output_type": "stream",
          "name": "stdout",
          "text": [
            "Hello, Meharsh!\n"
          ]
        }
      ]
    },
    {
      "cell_type": "markdown",
      "metadata": {
        "id": "9cdea6eb"
      },
      "source": [
        "You can also define functions that return a value."
      ]
    },
    {
      "cell_type": "code",
      "metadata": {
        "colab": {
          "base_uri": "https://localhost:8080/"
        },
        "id": "384d4765",
        "outputId": "7161bc2f-009b-4a87-e5ff-4c31b75d4dfd"
      },
      "source": [
        "# Function with return value\n",
        "def add_numbers(num1, num2):\n",
        "  return num1 + num2\n",
        "\n",
        "result = add_numbers(6, 9)\n",
        "print(\"Sum:\", result)"
      ],
      "execution_count": null,
      "outputs": [
        {
          "output_type": "stream",
          "name": "stdout",
          "text": [
            "Sum: 15\n"
          ]
        }
      ]
    }
  ]
}