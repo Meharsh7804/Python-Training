{
  "nbformat": 4,
  "nbformat_minor": 0,
  "metadata": {
    "colab": {
      "provenance": []
    },
    "kernelspec": {
      "name": "python3",
      "display_name": "Python 3"
    },
    "language_info": {
      "name": "python"
    }
  },
  "cells": [
    {
      "cell_type": "markdown",
      "metadata": {
        "id": "5b01ed29"
      },
      "source": [
        "### Indexing\n",
        "\n",
        "Indexing allows you to access individual elements by their position (index) within a sequence. Python uses zero-based indexing, meaning the first element is at index 0, the second at index 1, and so on. Negative indexing can be used to access elements from the end of the sequence, where -1 is the last element, -2 is the second to last, and so forth."
      ]
    },
    {
      "cell_type": "code",
      "metadata": {
        "id": "df2eb8d5",
        "colab": {
          "base_uri": "https://localhost:8080/"
        },
        "outputId": "cdf2fa23-2783-4a85-bf6f-d05f049e8912"
      },
      "source": [
        "my_list = [10, 20, 30, 40, 50]\n",
        "\n",
        "# Accessing elements using positive indexing\n",
        "print(f\"First element: {my_list[0]}\")\n",
        "print(f\"Third element: {my_list[2]}\")\n",
        "\n",
        "# Accessing elements using negative indexing\n",
        "print(f\"Last element: {my_list[-1]}\")\n",
        "print(f\"Second to last element: {my_list[-2]}\")"
      ],
      "execution_count": null,
      "outputs": [
        {
          "output_type": "stream",
          "name": "stdout",
          "text": [
            "First element: 10\n",
            "Third element: 30\n",
            "Last element: 50\n",
            "Second to last element: 40\n"
          ]
        }
      ]
    },
    {
      "cell_type": "markdown",
      "metadata": {
        "id": "ddf321ec"
      },
      "source": [
        "### Slicing\n",
        "\n",
        "Slicing allows you to extract a portion (a slice) of a sequence. It's done using the colon operator (`:`). The basic syntax for slicing is `[start:stop:step]`:\n",
        "\n",
        "- `start`: The index of the first element to include in the slice (inclusive). If omitted, it defaults to the beginning of the sequence.\n",
        "- `stop`: The index of the first element *not* to include in the slice (exclusive). If omitted, it defaults to the end of the sequence.\n",
        "- `step`: The step size between elements in the slice. If omitted, it defaults to 1."
      ]
    },
    {
      "cell_type": "code",
      "metadata": {
        "id": "86e48441",
        "colab": {
          "base_uri": "https://localhost:8080/"
        },
        "outputId": "a8d2bbc6-fc2f-425e-ab20-f8608291d9ee"
      },
      "source": [
        "my_list = [10, 20, 30, 40, 50, 60, 70, 80, 90, 100]\n",
        "\n",
        "# Basic slicing\n",
        "print(f\"Elements from index 2 to 5 (exclusive): {my_list[2:5]}\")\n",
        "\n",
        "# Slicing from the beginning\n",
        "print(f\"Elements from the beginning to index 4 (exclusive): {my_list[:4]}\")\n",
        "\n",
        "# Slicing to the end\n",
        "print(f\"Elements from index 6 to the end: {my_list[6:]}\")\n",
        "\n",
        "# Slicing with a step\n",
        "print(f\"Elements with a step of 2: {my_list[::2]}\")\n",
        "\n",
        "# Slicing with a step and start/stop\n",
        "print(f\"Elements from index 1 to 8 with a step of 3: {my_list[1:8:3]}\")\n",
        "\n",
        "# Reversing a list using slicing\n",
        "print(f\"Reversed list: {my_list[::-1]}\")"
      ],
      "execution_count": null,
      "outputs": [
        {
          "output_type": "stream",
          "name": "stdout",
          "text": [
            "Elements from index 2 to 5 (exclusive): [30, 40, 50]\n",
            "Elements from the beginning to index 4 (exclusive): [10, 20, 30, 40]\n",
            "Elements from index 6 to the end: [70, 80, 90, 100]\n",
            "Elements with a step of 2: [10, 30, 50, 70, 90]\n",
            "Elements from index 1 to 8 with a step of 3: [20, 50, 80]\n",
            "Reversed list: [100, 90, 80, 70, 60, 50, 40, 30, 20, 10]\n"
          ]
        }
      ]
    },
    {
      "cell_type": "markdown",
      "metadata": {
        "id": "b8676521"
      },
      "source": [
        "### Indexing and Slicing on Tuples\n",
        "\n",
        "Tuples are similar to lists but are immutable, meaning their elements cannot be changed after creation. However, you can still use indexing and slicing to access and extract elements."
      ]
    },
    {
      "cell_type": "code",
      "metadata": {
        "id": "40a55e7a",
        "colab": {
          "base_uri": "https://localhost:8080/"
        },
        "outputId": "90e8ae5a-d4c6-4263-e4a6-0651bf206606"
      },
      "source": [
        "my_tuple = (1, 2, 3, 4, 5)\n",
        "\n",
        "# Indexing on tuples\n",
        "print(f\"First element of the tuple: {my_tuple[0]}\")\n",
        "print(f\"Last element of the tuple: {my_tuple[-1]}\")\n",
        "\n",
        "# Slicing on tuples\n",
        "print(f\"Elements from index 1 to 4 (exclusive): {my_tuple[1:4]}\")\n",
        "print(f\"Elements with a step of 2: {my_tuple[::2]}\")"
      ],
      "execution_count": null,
      "outputs": [
        {
          "output_type": "stream",
          "name": "stdout",
          "text": [
            "First element of the tuple: 1\n",
            "Last element of the tuple: 5\n",
            "Elements from index 1 to 4 (exclusive): (2, 3, 4)\n",
            "Elements with a step of 2: (1, 3, 5)\n"
          ]
        }
      ]
    },
    {
      "cell_type": "markdown",
      "metadata": {
        "id": "c5252178"
      },
      "source": [
        "### Indexing and Slicing on Strings\n",
        "\n",
        "Strings are sequences of characters, and you can also apply indexing and slicing to them to access individual characters or substrings."
      ]
    },
    {
      "cell_type": "code",
      "metadata": {
        "id": "8087b6d3",
        "colab": {
          "base_uri": "https://localhost:8080/"
        },
        "outputId": "0892ae5e-21ff-443f-8482-fd8fd0209ff7"
      },
      "source": [
        "my_string = \"Hello, World!\"\n",
        "\n",
        "# Indexing on strings\n",
        "print(f\"First character of the string: {my_string[0]}\")\n",
        "print(f\"Last character of the string: {my_string[-1]}\")\n",
        "\n",
        "# Slicing on strings\n",
        "print(f\"Characters from index 0 to 5 (exclusive): {my_string[0:5]}\")\n",
        "print(f\"Characters with a step of 2: {my_string[::2]}\")\n",
        "print(f\"Reversed string: {my_string[::-1]}\")"
      ],
      "execution_count": null,
      "outputs": [
        {
          "output_type": "stream",
          "name": "stdout",
          "text": [
            "First character of the string: H\n",
            "Last character of the string: !\n",
            "Characters from index 0 to 5 (exclusive): Hello\n",
            "Characters with a step of 2: Hlo ol!\n",
            "Reversed string: !dlroW ,olleH\n"
          ]
        }
      ]
    }
  ]
}