{
  "nbformat": 4,
  "nbformat_minor": 0,
  "metadata": {
    "colab": {
      "provenance": []
    },
    "kernelspec": {
      "name": "python3",
      "display_name": "Python 3"
    },
    "language_info": {
      "name": "python"
    }
  },
  "cells": [
    {
      "cell_type": "markdown",
      "metadata": {
        "id": "48d391f7"
      },
      "source": [
        "**Explanation of Exception Handling Code:**\n",
        "\n",
        "- **`try` block:** The code that might raise an exception is placed inside the `try` block.\n",
        "- **`except` blocks:** These blocks catch specific types of exceptions. If a `ZeroDivisionError` occurs, the code in that `except` block is executed. If a `TypeError` occurs, the code in that `except` block is executed.\n",
        "- **`except Exception as e`:** This is a general exception handler that catches any other type of exception and prints the error message.\n",
        "- **`finally` block:** The code in the `finally` block is always executed, regardless of whether an exception occurred or not. This is useful for cleanup operations."
      ]
    },
    {
      "cell_type": "code",
      "metadata": {
        "colab": {
          "base_uri": "https://localhost:8080/"
        },
        "id": "42f5a3ad",
        "outputId": "0b285008-7cab-4c3b-c554-ba103fd3988b"
      },
      "source": [
        "# Basic Exception Handling\n",
        "\n",
        "def divide(a, b):\n",
        "  try:\n",
        "    result = a / b\n",
        "    print(f\"Result of division: {result}\")\n",
        "  except ZeroDivisionError:\n",
        "    print(\"Error: Cannot divide by zero!\")\n",
        "  except TypeError:\n",
        "    print(\"Error: Invalid input types. Please provide numbers.\")\n",
        "  except Exception as e:\n",
        "    print(f\"An unexpected error occurred: {e}\")\n",
        "  finally:\n",
        "    print(\"Division attempt finished.\")\n",
        "\n",
        "divide(10, 2)\n",
        "divide(10, 0)\n",
        "divide(10, \"a\")"
      ],
      "execution_count": null,
      "outputs": [
        {
          "output_type": "stream",
          "name": "stdout",
          "text": [
            "Result of division: 5.0\n",
            "Division attempt finished.\n",
            "Error: Cannot divide by zero!\n",
            "Division attempt finished.\n",
            "Error: Invalid input types. Please provide numbers.\n",
            "Division attempt finished.\n"
          ]
        }
      ]
    },
    {
      "cell_type": "markdown",
      "metadata": {
        "id": "b070a734"
      },
      "source": [
        "**Explanation of Debugging Concepts:**\n",
        "\n",
        "- **`print()` statements:** Simple but effective for inspecting variable values at different points in your code.\n",
        "- **Breakpoints:** You can set breakpoints in Colab by clicking in the left margin of a code cell. When the code runs, it will pause at the breakpoint, allowing you to examine the state of your program.\n",
        "- **Debugging Tools:** Colab provides debugging tools that allow you to:\n",
        "    - **Inspect variables:** See the current values of variables.\n",
        "    - **Step over:** Execute the current line of code and move to the next line.\n",
        "    - **Step into:** Enter a function call to debug the code inside the function.\n",
        "    - **Step out:** Exit the current function call.\n",
        "    - **Continue:** Resume execution until the next breakpoint or the end of the program.\n",
        "\n",
        "By combining exception handling and debugging techniques, you can write more robust and error-free Python code."
      ]
    },
    {
      "cell_type": "code",
      "metadata": {
        "id": "07be1a92",
        "outputId": "18ae04c5-e73f-4c12-f6dc-428ca97e9fe6",
        "colab": {
          "base_uri": "https://localhost:8080/"
        }
      },
      "source": [
        "# Basic Debugging\n",
        "\n",
        "def calculate_average(numbers):\n",
        "  total = 0\n",
        "  for number in numbers:\n",
        "    total += number\n",
        "  average = total / len(numbers)\n",
        "  return average\n",
        "\n",
        "# Example usage:\n",
        "data = [10, 20, 30, 40, 50]\n",
        "# print(f\"Data: {data}\") # Uncomment to inspect the data\n",
        "# print(f\"Length of data: {len(data)}\") # Uncomment to inspect the length\n",
        "\n",
        "avg = calculate_average(data)\n",
        "print(f\"The average is: {avg}\")\n",
        "\n",
        "# Example with an error (uncomment to see the error and practice debugging):\n",
        "# empty_data = []\n",
        "# avg_empty = calculate_average(empty_data)\n",
        "# print(f\"The average of empty data is: {avg_empty}\")\n",
        "\n",
        "# To debug in Colab:\n",
        "# 1. Click in the left margin of a code cell to set a breakpoint (a red dot will appear).\n",
        "# 2. Run the cell. The execution will pause at the breakpoint.\n",
        "# 3. Use the debugging tools (variables, step over, step into, etc.) to inspect the code execution."
      ],
      "execution_count": null,
      "outputs": [
        {
          "output_type": "stream",
          "name": "stdout",
          "text": [
            "The average is: 30.0\n"
          ]
        }
      ]
    }
  ]
}