{
  "nbformat": 4,
  "nbformat_minor": 0,
  "metadata": {
    "colab": {
      "provenance": []
    },
    "kernelspec": {
      "name": "python3",
      "display_name": "Python 3"
    },
    "language_info": {
      "name": "python"
    }
  },
  "cells": [
    {
      "cell_type": "markdown",
      "metadata": {
        "id": "f16d7b28"
      },
      "source": [
        "This example demonstrates how to consume a web API using the `requests` library in Python.\n",
        "\n",
        "First, you need to install the `requests` library if you haven't already:"
      ]
    },
    {
      "cell_type": "code",
      "metadata": {
        "id": "38733661"
      },
      "source": [
        "%pip install requests"
      ],
      "execution_count": null,
      "outputs": []
    },
    {
      "cell_type": "markdown",
      "metadata": {
        "id": "9cd0abc1"
      },
      "source": [
        "Now, let's make a simple GET request to a public API (like the JSONPlaceholder API, which provides fake online REST APIs for testing and prototyping)."
      ]
    },
    {
      "cell_type": "code",
      "metadata": {
        "colab": {
          "base_uri": "https://localhost:8080/"
        },
        "id": "3f858820",
        "outputId": "d0c69542-78b6-417a-9171-3fb291d987cd"
      },
      "source": [
        "import requests\n",
        "\n",
        "# The API endpoint we want to access\n",
        "api_url = \"https://jsonplaceholder.typicode.com/posts/1\"\n",
        "\n",
        "# Make a GET request to the API\n",
        "response = requests.get(api_url)\n",
        "\n",
        "# Check if the request was successful (status code 200 means success)\n",
        "if response.status_code == 200:\n",
        "    # Parse the JSON response\n",
        "    data = response.json()\n",
        "\n",
        "    # Print the data\n",
        "    print(\"API Response:\")\n",
        "    print(data)\n",
        "else:\n",
        "    # Print an error message if the request was not successful\n",
        "    print(f\"Error: Could not retrieve data. Status code: {response.status_code}\")"
      ],
      "execution_count": 1,
      "outputs": [
        {
          "output_type": "stream",
          "name": "stdout",
          "text": [
            "API Response:\n",
            "{'userId': 1, 'id': 1, 'title': 'sunt aut facere repellat provident occaecati excepturi optio reprehenderit', 'body': 'quia et suscipit\\nsuscipit recusandae consequuntur expedita et cum\\nreprehenderit molestiae ut ut quas totam\\nnostrum rerum est autem sunt rem eveniet architecto'}\n"
          ]
        }
      ]
    },
    {
      "cell_type": "markdown",
      "metadata": {
        "id": "b221bbdd"
      },
      "source": [
        "**Explanation:**\n",
        "\n",
        "1.  **`%pip install requests`**: This line installs the `requests` library.\n",
        "2.  **`import requests`**: This line imports the `requests` library into your script.\n",
        "3.  **`api_url = \"...\"`**: This variable stores the URL of the API endpoint you want to interact with.\n",
        "4.  **`requests.get(api_url)`**: This makes a GET request to the specified URL. GET requests are used to retrieve data from an API.\n",
        "5.  **`response.status_code`**: This checks the HTTP status code of the response. A status code of 200 indicates that the request was successful.\n",
        "6.  **`response.json()`**: If the request is successful, this parses the JSON (JavaScript Object Notation) response body into a Python dictionary or list. Most web APIs return data in JSON format.\n",
        "7.  **`print(data)`**: This prints the retrieved data.\n",
        "8.  **`else: print(...)`**: This handles cases where the API request was not successful.\n",
        "\n",
        "This is a very basic example. Real-world API consumption might involve:\n",
        "\n",
        "*   Handling different HTTP methods (POST, PUT, DELETE, etc.)\n",
        "*   Including request headers (e.g., for authentication)\n",
        "*   Sending data in the request body (e.g., for POST requests)\n",
        "*   Error handling and retries\n",
        "*   Working with different authentication methods (API keys, OAuth, etc.)"
      ]
    },
    {
      "cell_type": "code",
      "metadata": {
        "colab": {
          "base_uri": "https://localhost:8080/"
        },
        "id": "6f59e63d",
        "outputId": "b2271dba-8765-4807-9718-3c69e2c66de5"
      },
      "source": [
        "import requests\n",
        "from requests.auth import HTTPBasicAuth\n",
        "\n",
        "# --- GET Request with Query Parameters ---\n",
        "print(\"--- GET Request with Query Parameters ---\")\n",
        "get_url_params = \"https://jsonplaceholder.typicode.com/posts\"\n",
        "query_params = {\"userId\": 1, \"id\": 1}\n",
        "\n",
        "try:\n",
        "    response_get_params = requests.get(get_url_params, params=query_params)\n",
        "    response_get_params.raise_for_status() # Raise an exception for bad status codes (4xx or 5xx)\n",
        "    data_get_params = response_get_params.json()\n",
        "    print(\"GET Response with Params:\")\n",
        "    print(data_get_params)\n",
        "except requests.exceptions.RequestException as e:\n",
        "    print(f\"Error during GET request with params: {e}\")\n",
        "\n",
        "print(\"\\n\" + \"=\"*30 + \"\\n\") # Separator\n",
        "\n",
        "# --- POST Request with JSON Payload and Headers ---\n",
        "print(\"--- POST Request with JSON Payload and Headers ---\")\n",
        "post_url = \"https://jsonplaceholder.typicode.com/posts\"\n",
        "post_payload = {\n",
        "    \"title\": \"foo\",\n",
        "    \"body\": \"bar\",\n",
        "    \"userId\": 1\n",
        "}\n",
        "post_headers = {\n",
        "    \"Content-type\": \"application/json; charset=UTF-8\",\n",
        "    \"Authorization\": \"Bearer your_token_here\" # Replace with your actual token\n",
        "}\n",
        "\n",
        "try:\n",
        "    response_post = requests.post(post_url, json=post_payload, headers=post_headers)\n",
        "    response_post.raise_for_status() # Raise an exception for bad status codes (4xx or 5xx)\n",
        "    data_post = response_post.json()\n",
        "    print(\"POST Response:\")\n",
        "    print(data_post)\n",
        "except requests.exceptions.RequestException as e:\n",
        "    print(f\"Error during POST request: {e}\")\n",
        "\n",
        "print(\"\\n\" + \"=\"*30 + \"\\n\") # Separator\n",
        "\n",
        "# --- GET Request with Basic Authentication ---\n",
        "# Note: JSONPlaceholder doesn't require authentication, this is just for demonstration\n",
        "print(\"--- GET Request with Basic Authentication ---\")\n",
        "auth_url = \"https://httpbin.org/basic-auth/user/pass\" # A service for testing HTTP requests\n",
        "basic_auth = HTTPBasicAuth(\"user\", \"pass\")\n",
        "\n",
        "try:\n",
        "    response_auth = requests.get(auth_url, auth=basic_auth)\n",
        "    response_auth.raise_for_status() # Raise an exception for bad status codes (4xx or 5xx)\n",
        "    data_auth = response_auth.json()\n",
        "    print(\"Basic Auth Response:\")\n",
        "    print(data_auth)\n",
        "except requests.exceptions.RequestException as e:\n",
        "    print(f\"Error during Basic Auth request: {e}\")\n",
        "\n",
        "print(\"\\n\" + \"=\"*30 + \"\\n\") # Separator\n",
        "\n",
        "# --- Error Handling Example (simulating a bad request) ---\n",
        "print(\"--- Error Handling Example (simulating a bad request) ---\")\n",
        "error_url = \"https://jsonplaceholder.typicode.com/non-existent-endpoint\"\n",
        "\n",
        "try:\n",
        "    response_error = requests.get(error_url)\n",
        "    response_error.raise_for_status() # This will raise an HTTPError\n",
        "    data_error = response_error.json()\n",
        "    print(\"Error Example Response (should not reach here):\")\n",
        "    print(data_error)\n",
        "except requests.exceptions.HTTPError as e:\n",
        "    print(f\"HTTP Error occurred: {e}\")\n",
        "except requests.exceptions.RequestException as e:\n",
        "    print(f\"Other Request Error occurred: {e}\")"
      ],
      "execution_count": 2,
      "outputs": [
        {
          "output_type": "stream",
          "name": "stdout",
          "text": [
            "--- GET Request with Query Parameters ---\n",
            "GET Response with Params:\n",
            "[{'userId': 1, 'id': 1, 'title': 'sunt aut facere repellat provident occaecati excepturi optio reprehenderit', 'body': 'quia et suscipit\\nsuscipit recusandae consequuntur expedita et cum\\nreprehenderit molestiae ut ut quas totam\\nnostrum rerum est autem sunt rem eveniet architecto'}]\n",
            "\n",
            "==============================\n",
            "\n",
            "--- POST Request with JSON Payload and Headers ---\n",
            "POST Response:\n",
            "{'title': 'foo', 'body': 'bar', 'userId': 1, 'id': 101}\n",
            "\n",
            "==============================\n",
            "\n",
            "--- GET Request with Basic Authentication ---\n",
            "Basic Auth Response:\n",
            "{'authenticated': True, 'user': 'user'}\n",
            "\n",
            "==============================\n",
            "\n",
            "--- Error Handling Example (simulating a bad request) ---\n",
            "HTTP Error occurred: 404 Client Error: Not Found for url: https://jsonplaceholder.typicode.com/non-existent-endpoint\n"
          ]
        }
      ]
    }
  ]
}