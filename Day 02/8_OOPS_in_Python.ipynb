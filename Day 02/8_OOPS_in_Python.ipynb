{
  "nbformat": 4,
  "nbformat_minor": 0,
  "metadata": {
    "colab": {
      "provenance": []
    },
    "kernelspec": {
      "name": "python3",
      "display_name": "Python 3"
    },
    "language_info": {
      "name": "python"
    }
  },
  "cells": [
    {
      "cell_type": "markdown",
      "metadata": {
        "id": "fcf5a770"
      },
      "source": [
        "## Object-Oriented Programming (OOP) in Python\n",
        "\n",
        "Object-Oriented Programming (OOP) is a programming paradigm that uses objects and classes. It aims to implement real-world entities like inheritance, polymorphism, encapsulation, and more into programming.\n",
        "\n",
        "Here are some basic concepts of OOP in Python:\n",
        "\n",
        "1.  **Class**: A class is a blueprint for creating objects. It defines the attributes (data) and methods (functions) that objects of that class will have.\n",
        "2.  **Object**: An object is an instance of a class. It is a concrete entity based on the blueprint defined by the class.\n",
        "3.  **Attributes**: Attributes are variables that store data within a class or object.\n",
        "4.  **Methods**: Methods are functions defined within a class that perform actions on the object's data."
      ]
    },
    {
      "cell_type": "code",
      "metadata": {
        "id": "d1618877"
      },
      "source": [
        "# Example of a Class and Object\n",
        "\n",
        "# Define a class named 'Dog'\n",
        "class Dog:\n",
        "    # Class attribute\n",
        "    species = \"Canis familiaris\"\n",
        "\n",
        "    # Initializer / Constructor\n",
        "    def __init__(self, name, age):\n",
        "        # Instance attributes\n",
        "        self.name = name\n",
        "        self.age = age\n",
        "\n",
        "    # Instance method\n",
        "    def bark(self):\n",
        "        return f\"{self.name} says Woof!\"\n",
        "\n",
        "# Create an object (instance) of the Dog class\n",
        "my_dog = Dog(\"Buddy\", 3)\n",
        "\n",
        "# Access attributes of the object\n",
        "print(f\"My dog's name is {my_dog.name}\")\n",
        "print(f\"My dog's age is {my_dog.age}\")\n",
        "print(f\"My dog is a {my_dog.species}\")\n",
        "\n",
        "# Call a method of the object\n",
        "print(my_dog.bark())"
      ],
      "execution_count": null,
      "outputs": []
    },
    {
      "cell_type": "markdown",
      "metadata": {
        "id": "5bfc9d29"
      },
      "source": [
        "5.  **Inheritance**: Inheritance is a mechanism that allows a new class (subclass or derived class) to inherit attributes and methods from an existing class (superclass or base class). This promotes code reusability."
      ]
    },
    {
      "cell_type": "code",
      "metadata": {
        "id": "bf7cb2cf"
      },
      "source": [
        "# Example of Inheritance\n",
        "\n",
        "# Define a base class named 'Animal'\n",
        "class Animal:\n",
        "    def __init__(self, name):\n",
        "        self.name = name\n",
        "\n",
        "    def speak(self):\n",
        "        raise NotImplementedError(\"Subclass must implement abstract method\")\n",
        "\n",
        "# Define a derived class named 'Cat' that inherits from 'Animal'\n",
        "class Cat(Animal):\n",
        "    def speak(self):\n",
        "        return f\"{self.name} says Meow!\"\n",
        "\n",
        "# Create an object of the Cat class\n",
        "my_cat = Cat(\"Whiskers\")\n",
        "\n",
        "# Call the speak method (overridden in the Cat class)\n",
        "print(my_cat.speak())"
      ],
      "execution_count": null,
      "outputs": []
    },
    {
      "cell_type": "markdown",
      "metadata": {
        "id": "abab11fc"
      },
      "source": [
        "6.  **Encapsulation**: Encapsulation is the bundling of data (attributes) and methods that operate on the data within a single unit (class). It also involves controlling access to the data to prevent direct modification from outside the class. In Python, a convention of using single or double underscores before attribute names is used to indicate that they are intended to be private."
      ]
    },
    {
      "cell_type": "code",
      "metadata": {
        "id": "735f5067"
      },
      "source": [
        "# Example of Encapsulation\n",
        "\n",
        "class BankAccount:\n",
        "    def __init__(self, balance):\n",
        "        # Private attribute (convention using double underscore)\n",
        "        self.__balance = balance\n",
        "\n",
        "    def deposit(self, amount):\n",
        "        if amount > 0:\n",
        "            self.__balance += amount\n",
        "            print(f\"Deposited {amount}. New balance: {self.__balance}\")\n",
        "        else:\n",
        "            print(\"Deposit amount must be positive.\")\n",
        "\n",
        "    def withdraw(self, amount):\n",
        "        if amount > 0 and amount <= self.__balance:\n",
        "            self.__balance -= amount\n",
        "            print(f\"Withdrew {amount}. New balance: {self.__balance}\")\n",
        "        else:\n",
        "            print(\"Invalid withdrawal amount or insufficient balance.\")\n",
        "\n",
        "    def get_balance(self):\n",
        "        return self.__balance\n",
        "\n",
        "# Create a BankAccount object\n",
        "account = BankAccount(1000)\n",
        "\n",
        "# Deposit money\n",
        "account.deposit(500)\n",
        "\n",
        "# Withdraw money\n",
        "account.withdraw(200)\n",
        "\n",
        "# Try to access the private attribute directly (will result in an AttributeError or Name Mangling)\n",
        "# print(account.__balance)\n",
        "\n",
        "# Access balance using a public method\n",
        "print(f\"Current balance: {account.get_balance()}\")"
      ],
      "execution_count": null,
      "outputs": []
    },
    {
      "cell_type": "markdown",
      "metadata": {
        "id": "25d95526"
      },
      "source": [
        "7.  **Polymorphism**: Polymorphism means \"many forms\". In OOP, it allows objects of different classes to be treated as objects of a common superclass. This is often achieved through method overriding (as seen in the Inheritance example with the `speak` method) or method overloading (though not directly supported in Python in the same way as some other languages, it can be simulated)."
      ]
    },
    {
      "cell_type": "code",
      "metadata": {
        "id": "6116a39d"
      },
      "source": [
        "# Example of Polymorphism (using method overriding)\n",
        "\n",
        "class Bird:\n",
        "    def fly(self):\n",
        "        print(\"Bird is flying\")\n",
        "\n",
        "class Eagle(Bird):\n",
        "    def fly(self):\n",
        "        print(\"Eagle is soaring high\")\n",
        "\n",
        "class Penguin(Bird):\n",
        "    def fly(self):\n",
        "        print(\"Penguin cannot fly\")\n",
        "\n",
        "# Create a list of Bird objects (including subclasses)\n",
        "birds = [Bird(), Eagle(), Penguin()]\n",
        "\n",
        "# Iterate through the list and call the fly method\n",
        "for bird in birds:\n",
        "    bird.fly()"
      ],
      "execution_count": null,
      "outputs": []
    },
    {
      "cell_type": "markdown",
      "metadata": {
        "id": "9723910c"
      },
      "source": [
        "These are some of the fundamental concepts of OOP in Python. Understanding these concepts is crucial for writing well-structured and maintainable code."
      ]
    }
  ]
}