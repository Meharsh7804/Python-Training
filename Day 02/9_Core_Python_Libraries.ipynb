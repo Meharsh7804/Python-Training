{
  "nbformat": 4,
  "nbformat_minor": 0,
  "metadata": {
    "colab": {
      "provenance": []
    },
    "kernelspec": {
      "name": "python3",
      "display_name": "Python 3"
    },
    "language_info": {
      "name": "python"
    }
  },
  "cells": [
    {
      "cell_type": "markdown",
      "metadata": {
        "id": "07cb7ab9"
      },
      "source": [
        "### The `os` Module\n",
        "\n",
        "The `os` module provides a way of using operating system dependent functionality, such as reading or writing to the file system, or accessing environment variables."
      ]
    },
    {
      "cell_type": "code",
      "metadata": {
        "colab": {
          "base_uri": "https://localhost:8080/"
        },
        "id": "e536a5d3",
        "outputId": "d0e7a355-8b5c-4077-bc52-bb0e0112b5df"
      },
      "source": [
        "import os\n",
        "\n",
        "# Get the current working directory\n",
        "current_dir = os.getcwd()\n",
        "print(f\"Current directory: {current_dir}\")\n",
        "\n",
        "# List files and directories in the current path\n",
        "print(\"Files and directories in the current path:\")\n",
        "for item in os.listdir(current_dir):\n",
        "    print(item)\n",
        "\n",
        "# Example of creating a new directory (if it doesn't exist)\n",
        "new_dir = \"my_new_directory\"\n",
        "if not os.path.exists(new_dir):\n",
        "    os.makedirs(new_dir)\n",
        "    print(f\"Created directory: {new_dir}\")\n",
        "else:\n",
        "    print(f\"Directory already exists: {new_dir}\")\n",
        "\n",
        "# Example of joining path components\n",
        "file_path = os.path.join(current_dir, \"my_file.txt\")\n",
        "print(f\"Joined path: {file_path}\")"
      ],
      "execution_count": 1,
      "outputs": [
        {
          "output_type": "stream",
          "name": "stdout",
          "text": [
            "Current directory: /content\n",
            "Files and directories in the current path:\n",
            ".config\n",
            "sample_data\n",
            "Created directory: my_new_directory\n",
            "Joined path: /content/my_file.txt\n"
          ]
        }
      ]
    },
    {
      "cell_type": "markdown",
      "metadata": {
        "id": "3bd64eb6"
      },
      "source": [
        "### The `datetime` Module\n",
        "\n",
        "The `datetime` module supplies classes for manipulating dates and times in both simple and complex ways."
      ]
    },
    {
      "cell_type": "code",
      "metadata": {
        "colab": {
          "base_uri": "https://localhost:8080/"
        },
        "id": "efb24db1",
        "outputId": "c98d9ff8-ede1-484a-b389-0c9dfdea7ac3"
      },
      "source": [
        "import datetime\n",
        "\n",
        "# Get the current date and time\n",
        "now = datetime.datetime.now()\n",
        "print(f\"Current date and time: {now}\")\n",
        "\n",
        "# Get the current date\n",
        "today = datetime.date.today()\n",
        "print(f\"Today's date: {today}\")\n",
        "\n",
        "# Create a specific date\n",
        "my_date = datetime.date(2023, 10, 27)\n",
        "print(f\"My specific date: {my_date}\")\n",
        "\n",
        "# Create a specific datetime\n",
        "my_datetime = datetime.datetime(2023, 10, 27, 10, 30, 0)\n",
        "print(f\"My specific datetime: {my_datetime}\")\n",
        "\n",
        "# Calculate the difference between two dates\n",
        "time_difference = now - my_datetime\n",
        "print(f\"Time difference: {time_difference}\")"
      ],
      "execution_count": 2,
      "outputs": [
        {
          "output_type": "stream",
          "name": "stdout",
          "text": [
            "Current date and time: 2025-06-28 04:36:38.478900\n",
            "Today's date: 2025-06-28\n",
            "My specific date: 2023-10-27\n",
            "My specific datetime: 2023-10-27 10:30:00\n",
            "Time difference: 609 days, 18:06:38.478900\n"
          ]
        }
      ]
    },
    {
      "cell_type": "markdown",
      "metadata": {
        "id": "4cc3818d"
      },
      "source": [
        "### The `random` Module\n",
        "\n",
        "The `random` module implements pseudo-random number generators for various distributions."
      ]
    },
    {
      "cell_type": "code",
      "metadata": {
        "colab": {
          "base_uri": "https://localhost:8080/"
        },
        "id": "8d55de28",
        "outputId": "681cd293-31b7-4050-cd25-1a2a3b566b9a"
      },
      "source": [
        "import random\n",
        "\n",
        "# Generate a random integer between 1 and 10 (inclusive)\n",
        "random_integer = random.randint(1, 10)\n",
        "print(f\"Random integer: {random_integer}\")\n",
        "\n",
        "# Generate a random floating-point number between 0.0 and 1.0\n",
        "random_float = random.random()\n",
        "print(f\"Random float: {random_float}\")\n",
        "\n",
        "# Choose a random element from a sequence\n",
        "my_list = [\"apple\", \"banana\", \"cherry\", \"date\"]\n",
        "random_item = random.choice(my_list)\n",
        "print(f\"Random item from list: {random_item}\")\n",
        "\n",
        "# Shuffle a sequence in place\n",
        "random.shuffle(my_list)\n",
        "print(f\"Shuffled list: {my_list}\")"
      ],
      "execution_count": 3,
      "outputs": [
        {
          "output_type": "stream",
          "name": "stdout",
          "text": [
            "Random integer: 6\n",
            "Random float: 0.2982402279287527\n",
            "Random item from list: date\n",
            "Shuffled list: ['date', 'banana', 'cherry', 'apple']\n"
          ]
        }
      ]
    },
    {
      "cell_type": "markdown",
      "metadata": {
        "id": "b2469d21"
      },
      "source": [
        "### The `collections` Module\n",
        "\n",
        "The `collections` module implements specialized container datatypes providing alternatives to Python's general purpose built-in containers like dictionaries, lists, sets, and tuples."
      ]
    },
    {
      "cell_type": "code",
      "metadata": {
        "colab": {
          "base_uri": "https://localhost:8080/"
        },
        "id": "73f27bb7",
        "outputId": "54294677-24c8-4328-cde7-cfbb74c62455"
      },
      "source": [
        "import collections\n",
        "\n",
        "# Using a Counter to count hashable objects\n",
        "my_list = [\"apple\", \"banana\", \"apple\", \"cherry\", \"banana\", \"apple\"]\n",
        "item_counts = collections.Counter(my_list)\n",
        "print(f\"Item counts: {item_counts}\")\n",
        "\n",
        "# Using a defaultdict with a default factory (e.g., list)\n",
        "my_dict = collections.defaultdict(list)\n",
        "my_dict['a'].append(1)\n",
        "my_dict['a'].append(2)\n",
        "my_dict['b'].append(3)\n",
        "print(f\"Defaultdict: {my_dict}\")\n",
        "\n",
        "# Using an OrderedDict to remember the order of insertion\n",
        "ordered_dict = collections.OrderedDict()\n",
        "ordered_dict['first'] = 1\n",
        "ordered_dict['second'] = 2\n",
        "ordered_dict['third'] = 3\n",
        "print(f\"OrderedDict: {ordered_dict}\")"
      ],
      "execution_count": 4,
      "outputs": [
        {
          "output_type": "stream",
          "name": "stdout",
          "text": [
            "Item counts: Counter({'apple': 3, 'banana': 2, 'cherry': 1})\n",
            "Defaultdict: defaultdict(<class 'list'>, {'a': [1, 2], 'b': [3]})\n",
            "OrderedDict: OrderedDict([('first', 1), ('second', 2), ('third', 3)])\n"
          ]
        }
      ]
    }
  ]
}