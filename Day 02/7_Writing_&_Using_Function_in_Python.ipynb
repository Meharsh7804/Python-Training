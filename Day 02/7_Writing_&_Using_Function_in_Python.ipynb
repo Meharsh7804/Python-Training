{
  "nbformat": 4,
  "nbformat_minor": 0,
  "metadata": {
    "colab": {
      "provenance": []
    },
    "kernelspec": {
      "name": "python3",
      "display_name": "Python 3"
    },
    "language_info": {
      "name": "python"
    }
  },
  "cells": [
    {
      "cell_type": "markdown",
      "source": [
        "1) Simple Function (No Parameters)"
      ],
      "metadata": {
        "id": "wSOOEzTYq4_7"
      }
    },
    {
      "cell_type": "code",
      "execution_count": null,
      "metadata": {
        "colab": {
          "base_uri": "https://localhost:8080/"
        },
        "id": "dmQper3WinAh",
        "outputId": "ef1bf349-7a09-4519-bb43-ca47dadd124a"
      },
      "outputs": [
        {
          "output_type": "stream",
          "name": "stdout",
          "text": [
            "Welcome! Welcome! Welcome!\n"
          ]
        }
      ],
      "source": [
        "# A basic function with no input parameters.This function simply prints a welcome message when called.\n",
        "\n",
        "def greet():\n",
        "  print(\"Welcome! Welcome! Welcome!\")\n",
        "\n",
        "greet()"
      ]
    },
    {
      "cell_type": "markdown",
      "source": [
        "2) Function with One Parameter"
      ],
      "metadata": {
        "id": "a03ENjwcrsMW"
      }
    },
    {
      "cell_type": "code",
      "source": [
        "# A function that accepts one argument and uses it in the output.\n",
        "def greet(name):\n",
        "  print(\"Welcome, \" + name + \"!\")\n",
        "\n",
        "greet(\"\")"
      ],
      "metadata": {
        "colab": {
          "base_uri": "https://localhost:8080/"
        },
        "id": "DAH15aO4kytC",
        "outputId": "90f3654e-2d7f-4b9a-f30d-2ec368e0bbf0"
      },
      "execution_count": null,
      "outputs": [
        {
          "output_type": "stream",
          "name": "stdout",
          "text": [
            "Welcome, Meharsh!\n"
          ]
        }
      ]
    },
    {
      "cell_type": "markdown",
      "source": [
        "3) Function with Default Argument"
      ],
      "metadata": {
        "id": "ePNkmOZBr7Lo"
      }
    },
    {
      "cell_type": "code",
      "source": [
        "# If no value is passed, it uses the default \"Guest\". If a value is passed, it overrides the default.\n",
        "def greet(name = \"Guest\"):\n",
        "  print(f\"Welcome, {name} !\")\n",
        "\n",
        "greet()\n",
        "greet(\"Meharsh\")"
      ],
      "metadata": {
        "colab": {
          "base_uri": "https://localhost:8080/"
        },
        "id": "JTzamThPl-To",
        "outputId": "2a59ca47-2bc9-4587-cf96-3d65646a6eeb"
      },
      "execution_count": null,
      "outputs": [
        {
          "output_type": "stream",
          "name": "stdout",
          "text": [
            "Welcome, Guest !\n",
            "Welcome, Meharsh !\n"
          ]
        }
      ]
    },
    {
      "cell_type": "markdown",
      "source": [
        "4) Function with Arbitrary Positional Arguments (*args)"
      ],
      "metadata": {
        "id": "UEvljrvQsEnn"
      }
    },
    {
      "cell_type": "code",
      "source": [
        "# *args allows you to pass multiple values (like a tuple). You can loop through them easily.\n",
        "def greet_names(*names):\n",
        "  for name in names:\n",
        "    print(\"Welcome, {name} !\")\n",
        "\n",
        "greet_names(\"Aman\", \"Meharsh\", \"Nikunj\")"
      ],
      "metadata": {
        "colab": {
          "base_uri": "https://localhost:8080/"
        },
        "id": "gZVGIWsxmRjt",
        "outputId": "f4373bc8-ee88-4dbc-ec61-72d849eb905e"
      },
      "execution_count": null,
      "outputs": [
        {
          "output_type": "stream",
          "name": "stdout",
          "text": [
            "Welcome, Aman !\n",
            "Welcome, Meharsh !\n",
            "Welcome, Nikunj !\n"
          ]
        }
      ]
    },
    {
      "cell_type": "markdown",
      "source": [
        "5) Function with Arbitrary Keyword Arguments {**kwargs}"
      ],
      "metadata": {
        "id": "jDEdQ3uwsVVg"
      }
    },
    {
      "cell_type": "code",
      "source": [
        "# **kwargs allows you to pass key-value pairs like a dictionary.\n",
        "def greet_names(**names):\n",
        "  for key, value in names.items():\n",
        "    print(f\"{key} : {value}\")\n",
        "\n",
        "greet_names(name1 = \"Aman\", name2 = \"Meharsh\", name3 = \"Nikunj\")"
      ],
      "metadata": {
        "colab": {
          "base_uri": "https://localhost:8080/"
        },
        "id": "uNnPaV5GnRFz",
        "outputId": "8b30a6e5-f4bd-46ac-9d67-5a78abb54047"
      },
      "execution_count": null,
      "outputs": [
        {
          "output_type": "stream",
          "name": "stdout",
          "text": [
            "name1 : Aman\n",
            "name2 : Meharsh\n",
            "name3 : Nikunj\n"
          ]
        }
      ]
    },
    {
      "cell_type": "markdown",
      "source": [
        "6) Function with Both *args and **kwargs"
      ],
      "metadata": {
        "id": "dkXED46UswSe"
      }
    },
    {
      "cell_type": "code",
      "source": [
        "# Combines both types of arguments. *args captures positional arguments. **kwargs captures keyword arguments\n",
        "def greet_names(*args, **kwargs):\n",
        "  print(args)\n",
        "  print(kwargs)\n",
        "\n",
        "greet_names(\"Aman\", \"Meharsh\", \"Nikunj\", name1 = \"Aman\", name2 = \"Meharsh\", name3 = \"Nikunj\")"
      ],
      "metadata": {
        "colab": {
          "base_uri": "https://localhost:8080/"
        },
        "id": "2UP3TO_1ojbe",
        "outputId": "fae3387c-7d77-4008-d06a-10023efe0239"
      },
      "execution_count": null,
      "outputs": [
        {
          "output_type": "stream",
          "name": "stdout",
          "text": [
            "('Aman', 'Meharsh', 'Nikunj')\n",
            "{'name1': 'Aman', 'name2': 'Meharsh', 'name3': 'Nikunj'}\n"
          ]
        }
      ]
    }
  ]
}