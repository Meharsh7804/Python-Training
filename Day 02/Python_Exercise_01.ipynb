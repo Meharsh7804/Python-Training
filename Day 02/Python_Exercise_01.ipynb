{
  "nbformat": 4,
  "nbformat_minor": 0,
  "metadata": {
    "colab": {
      "provenance": []
    },
    "kernelspec": {
      "name": "python3",
      "display_name": "Python 3"
    },
    "language_info": {
      "name": "python"
    }
  },
  "cells": [
    {
      "cell_type": "markdown",
      "source": [
        "**Task Description**<br>\n",
        "Write a Python program that:<br>\n",
        "● Accepts a list of city names from the user.<br>\n",
        "● Uses the OpenWeatherMap API (or any mock API if you're offline) to fetch weather data.<br>\n",
        "● Filters out cities where the temperature is above 30°C.<br>\n",
        "● Stores city names and their temperature in a list of tuples.<br>\n",
        "● Converts the final list to a set of unique city names.<br>\n",
        "● Displays results using slicing, indexing, and looping with conditions.<br>\n",
        "● Handles network errors and invalid city names gracefully.<br>\n",
        "● Uses functions for modular design.<br>\n",
        "● Uses list comprehension to extract hot cities.<br>\n"
      ],
      "metadata": {
        "id": "v9hpgOlaX_en"
      }
    },
    {
      "cell_type": "markdown",
      "source": [
        "________________________________________________________________________________\n",
        "\n",
        "Name :- Meharsh M. Chandure <br>\n",
        "Roll No :- A-36 <br>\n",
        "_______________________________________________________________________________"
      ],
      "metadata": {
        "id": "TengMXnGYLhr"
      }
    },
    {
      "cell_type": "code",
      "source": [
        "import requests\n",
        "\n",
        "# Function to take input from user\n",
        "def get_city_inputs():\n",
        "    # Taking comma-separated input\n",
        "    user_input = input(\"Enter city names: \")\n",
        "\n",
        "    # Calling cleaning function\n",
        "    cleaned_input = clean_city_list(user_input)\n",
        "    return cleaned_input\n",
        "\n",
        "# Function to clean and process a comma-separated list of cities\n",
        "def clean_city_list(city_string):\n",
        "    # Split the input by comma\n",
        "    cities = [city for city in city_string.split(',')]\n",
        "    return cities\n",
        "\n",
        "# Function to fetch weather data for each city\n",
        "def fetch_city_temperatures(cities):\n",
        "    # Initializing a list to store city name & its temperature as a tuple.\n",
        "    city_temperatures = []\n",
        "    for city in cities:\n",
        "        try:\n",
        "            response = requests.get(\n",
        "                f\"http://api.weatherapi.com/v1/current.json?key=15fddaef64834a618f484614252606&q={city}\"\n",
        "            )\n",
        "            data = response.json()\n",
        "\n",
        "            # Fetcing City Name\n",
        "            city_name = data['location']['name']\n",
        "\n",
        "            # Fetching that City's Temperature\n",
        "            temperature_c = data['current']['temp_c']\n",
        "\n",
        "            city_temperatures.append((city_name, temperature_c))\n",
        "\n",
        "        # Exception Handling\n",
        "        except requests.exceptions.RequestException as e:\n",
        "            print(f\"Error fetching weather for {city}: {e}\")\n",
        "        except KeyError:\n",
        "            print(f\"Could not retrieve weather data for {city}. Invalid city name?\")\n",
        "    return city_temperatures\n",
        "\n",
        "# Function to print cool cities\n",
        "def print_cool_cities(city_temperatures):\n",
        "    print(\"\\nCool Cities:\")\n",
        "    for city, temp in city_temperatures:\n",
        "        if temp < 30:\n",
        "            print(f\"{city}: {temp}°C\")\n",
        "\n",
        "# Function to create a list of hot cities\n",
        "def print_hot_cities(city_temperatures):\n",
        "    # Creating a new list called hot cities using list comprehension\n",
        "    hot_cities = [x for x in city_temperatures if x[1] > 30]\n",
        "    print(\"\\nHot Cities:\")\n",
        "    print(hot_cities)\n",
        "\n",
        "# Function to create a set of unique cities\n",
        "def get_unique_cities(city_temperatures):\n",
        "    # Creating a set of unique cities\n",
        "    unique_cities_set = set([city for city, temp in city_temperatures])\n",
        "    return unique_cities_set\n",
        "\n",
        "# Function for Slicing\n",
        "def slicing(city_temperatures):\n",
        "    # Sorting based on temperature (ascending)\n",
        "    sorted_cities = sorted(city_temperatures, key=lambda x: x[1])\n",
        "\n",
        "    # Slicing top 3 coolest cities\n",
        "    print(\"\\nTop 3 Coolest Cities (using slicing):\")\n",
        "    for city, temp in sorted_cities[:3]:\n",
        "        print(f\"{city}: {temp}°C\")\n",
        "\n",
        "    # Slicing top 3 hottest cities\n",
        "    print(\"\\nTop 3 Hottest Cities (using slicing):\")\n",
        "    for city, temp in sorted_cities[-3:]:\n",
        "        print(f\"{city}: {temp}°C\")\n",
        "\n",
        "# Function for Indexing\n",
        "def indexing(city_temperatures):\n",
        "    # Indexing first city (if exists)\n",
        "    if len(city_temperatures) > 0:\n",
        "        print(f\"\\nTemperature of first city entered: {city_temperatures[0][0]} is {city_temperatures[0][1]}°C\")\n",
        "\n",
        "    # Indexing last city (if exists)\n",
        "    if len(city_temperatures) > 1:\n",
        "        print(f\"Temperature of last city entered: {city_temperatures[-1][0]} is {city_temperatures[-1][1]}°C\")\n",
        "\n",
        "# Fucniton for Loop\n",
        "def loop_condition(city_temperatures):\n",
        "    print(\"\\nCities with temperature between 20°C and 35°C (using loop + condition):\")\n",
        "    for city, temp in city_temperatures:\n",
        "        if 20 <= temp <= 35:\n",
        "            print(f\"{city}: {temp}°C\")\n",
        "\n",
        "\n",
        "# Main Function\n",
        "cities = get_city_inputs()\n",
        "city_temperatures = fetch_city_temperatures(cities)\n",
        "print(\"\\nCity Names and Temperatures (inc. Duplicates)\")\n",
        "print(city_temperatures)\n",
        "\n",
        "print(\"\\nSet of Unique Cities:\")\n",
        "unique_cities = get_unique_cities(city_temperatures)\n",
        "print(unique_cities)\n",
        "\n",
        "print_cool_cities(city_temperatures)\n",
        "print_hot_cities(city_temperatures)\n",
        "\n",
        "slicing(city_temperatures)\n",
        "indexing(city_temperatures)\n",
        "loop_condition(city_temperatures)"
      ],
      "metadata": {
        "colab": {
          "base_uri": "https://localhost:8080/"
        },
        "id": "h-G2UEvRu-eV",
        "outputId": "c29b58a5-918e-4765-ed5f-e0c11f2d881e"
      },
      "execution_count": null,
      "outputs": [
        {
          "output_type": "stream",
          "name": "stdout",
          "text": [
            "Enter city names: Nagpur, Mumbai, Delhi, Pune,  Mumbai, Nagpur, Pune, Delhi, Kolkata, Dubai, Abu Dhabi\n",
            "\n",
            "City Names and Temperatures (inc. Duplicates)\n",
            "[('Nagpur', 27.2), ('Mumbai', 27.1), ('Delhi', 19.4), ('Pune', 24.7), ('Mumbai', 27.1), ('Nagpur', 27.2), ('Pune', 24.7), ('Delhi', 19.4), ('Kolkata', 31.3), ('Dubai', 37.3), ('Abu Dhabi', 40.0)]\n",
            "\n",
            "Set of Unique Cities:\n",
            "{'Nagpur', 'Kolkata', 'Dubai', 'Mumbai', 'Abu Dhabi', 'Delhi', 'Pune'}\n",
            "\n",
            "Cool Cities:\n",
            "Nagpur: 27.2°C\n",
            "Mumbai: 27.1°C\n",
            "Delhi: 19.4°C\n",
            "Pune: 24.7°C\n",
            "Mumbai: 27.1°C\n",
            "Nagpur: 27.2°C\n",
            "Pune: 24.7°C\n",
            "Delhi: 19.4°C\n",
            "\n",
            "Hot Cities:\n",
            "[('Kolkata', 31.3), ('Dubai', 37.3), ('Abu Dhabi', 40.0)]\n",
            "\n",
            "Top 3 Coolest Cities (using slicing):\n",
            "Delhi: 19.4°C\n",
            "Delhi: 19.4°C\n",
            "Pune: 24.7°C\n",
            "\n",
            "Top 3 Hottest Cities (using slicing):\n",
            "Kolkata: 31.3°C\n",
            "Dubai: 37.3°C\n",
            "Abu Dhabi: 40.0°C\n",
            "\n",
            "Temperature of first city entered: Nagpur is 27.2°C\n",
            "Temperature of last city entered: Abu Dhabi is 40.0°C\n",
            "\n",
            "Cities with temperature between 20°C and 35°C (using loop + condition):\n",
            "Nagpur: 27.2°C\n",
            "Mumbai: 27.1°C\n",
            "Pune: 24.7°C\n",
            "Mumbai: 27.1°C\n",
            "Nagpur: 27.2°C\n",
            "Pune: 24.7°C\n",
            "Kolkata: 31.3°C\n"
          ]
        }
      ]
    },
    {
      "cell_type": "markdown",
      "source": [
        "1. Write a function to clean and process a comma-separated list of cities."
      ],
      "metadata": {
        "id": "NU_EIvVF3KlS"
      }
    },
    {
      "cell_type": "code",
      "source": [
        "def get_city_inputs():\n",
        "    # Taking comma-separated input\n",
        "    user_input = input(\"Enter city names: \")\n",
        "\n",
        "    # Calling cleaning function\n",
        "    cleaned_input = clean_city_list(user_input)\n",
        "    return cleaned_input\n",
        "\n",
        "# Function to clean and process a comma-separated list of cities\n",
        "def clean_city_list(city_string):\n",
        "    # Split the input by comma\n",
        "    cities = [city for city in city_string.split(',')]\n",
        "    return cities\n",
        "\n",
        "get_city_inputs()"
      ],
      "metadata": {
        "colab": {
          "base_uri": "https://localhost:8080/"
        },
        "id": "wRg308llxaTb",
        "outputId": "6728d688-ae90-43a7-905a-f489905ebc86"
      },
      "execution_count": null,
      "outputs": [
        {
          "name": "stdout",
          "output_type": "stream",
          "text": [
            "Enter city names: Mumbai, Nagpur, Delhi\n"
          ]
        },
        {
          "output_type": "execute_result",
          "data": {
            "text/plain": [
              "['Mumbai', ' Nagpur', ' Delhi']"
            ]
          },
          "metadata": {},
          "execution_count": 45
        }
      ]
    },
    {
      "cell_type": "markdown",
      "source": [
        "2. Write a try-except block to handle errors from an API call."
      ],
      "metadata": {
        "id": "HNlSN4xc8DPF"
      }
    },
    {
      "cell_type": "code",
      "source": [
        "def fetch_city_temperatures(cities):\n",
        "    # Initializing a list to store city name & its temperature as a tuple.\n",
        "    city_temperatures = []\n",
        "    for city in cities:\n",
        "        try:\n",
        "            response = requests.get(\n",
        "                f\"http://api.weatherapi.com/v1/current.json?key=15fddaef64834a618f484614252606&q={city}\"\n",
        "            )\n",
        "            data = response.json()\n",
        "\n",
        "            # Fetcing City Name\n",
        "            city_name = data['location']['name']\n",
        "\n",
        "            # Fetching that City's Temperature\n",
        "            temperature_c = data['current']['temp_c']\n",
        "\n",
        "            city_temperatures.append((city_name, temperature_c))\n",
        "\n",
        "        # Exception Handling\n",
        "        except requests.exceptions.RequestException as e:\n",
        "            print(f\"Error fetching weather for {city}: {e}\")\n",
        "        except KeyError:\n",
        "            print(f\"Could not retrieve weather data for {city}. Invalid city name?\")\n",
        "    return city_temperatures"
      ],
      "metadata": {
        "id": "jpaj-DS_5SUN"
      },
      "execution_count": null,
      "outputs": []
    },
    {
      "cell_type": "markdown",
      "source": [
        "3. Use list comprehension to filter based on a condition."
      ],
      "metadata": {
        "id": "ZOV44DJs8oQC"
      }
    },
    {
      "cell_type": "code",
      "source": [
        "# Function to create a list of hot cities\n",
        "def print_hot_cities(city_temperatures):\n",
        "    # Creating a new list called hot cities using list comprehension\n",
        "    hot_cities = [x for x in city_temperatures if x[1] > 30]\n",
        "    print(\"\\nHot Cities:\")\n",
        "    print(hot_cities)"
      ],
      "metadata": {
        "id": "lIphC17m8MrG"
      },
      "execution_count": null,
      "outputs": []
    },
    {
      "cell_type": "markdown",
      "source": [
        "4. Store temperature data using tuples and access it using indexing/slicing."
      ],
      "metadata": {
        "id": "jWpfBDWJ8zx-"
      }
    },
    {
      "cell_type": "code",
      "source": [
        "# city_temperatures is a list of tuples\n",
        "# Function for Slicing\n",
        "def slicing(city_temperatures):\n",
        "    # Sorting based on temperature (ascending)\n",
        "    sorted_cities = sorted(city_temperatures, key=lambda x: x[1])\n",
        "\n",
        "    # Slicing top 3 coolest cities\n",
        "    print(\"\\nTop 3 Coolest Cities (using slicing):\")\n",
        "    for city, temp in sorted_cities[:3]:\n",
        "        print(f\"{city}: {temp}°C\")\n",
        "\n",
        "    # Slicing top 3 hottest cities\n",
        "    print(\"\\nTop 3 Hottest Cities (using slicing):\")\n",
        "    for city, temp in sorted_cities[-3:]:\n",
        "        print(f\"{city}: {temp}°C\")\n",
        "\n",
        "# Function for Indexing\n",
        "def indexing(city_temperatures):\n",
        "    # Indexing first city (if exists)\n",
        "    if len(city_temperatures) > 0:\n",
        "        print(f\"\\nTemperature of first city entered: {city_temperatures[0][0]} is {city_temperatures[0][1]}°C\")\n",
        "\n",
        "    # Indexing last city (if exists)\n",
        "    if len(city_temperatures) > 1:\n",
        "        print(f\"Temperature of last city entered: {city_temperatures[-1][0]} is {city_temperatures[-1][1]}°C\")"
      ],
      "metadata": {
        "id": "hbhlQIUs8ujl"
      },
      "execution_count": null,
      "outputs": []
    },
    {
      "cell_type": "markdown",
      "source": [
        "5. Use sets to get unique entries."
      ],
      "metadata": {
        "id": "iDnPDCrV9Dim"
      }
    },
    {
      "cell_type": "code",
      "source": [
        "# Function to create a set of unique cities\n",
        "def get_unique_cities(city_temperatures):\n",
        "    # Creating a set of unique cities\n",
        "    unique_cities_set = set([city for city, temp in city_temperatures])\n",
        "    return unique_cities_set"
      ],
      "metadata": {
        "id": "Zuvw79HC89GU"
      },
      "execution_count": null,
      "outputs": []
    },
    {
      "cell_type": "markdown",
      "source": [
        "6. Write logic using loops and conditions to classify temperatures."
      ],
      "metadata": {
        "id": "wneu5Y9c9K9E"
      }
    },
    {
      "cell_type": "code",
      "source": [
        "# Fucniton for Loop\n",
        "def loop_condition(city_temperatures):\n",
        "    print(\"\\nCities with temperature between 20°C and 35°C (using loop + condition):\")\n",
        "    for city, temp in city_temperatures:\n",
        "        if 20 <= temp <= 35:\n",
        "            print(f\"{city}: {temp}°C\")"
      ],
      "metadata": {
        "id": "aTP9-k5f9ImE"
      },
      "execution_count": null,
      "outputs": []
    },
    {
      "cell_type": "markdown",
      "source": [
        "7. Add debugging prints or pdb.set_trace() for stepwise inspection."
      ],
      "metadata": {
        "id": "SbI4JWUn9grg"
      }
    },
    {
      "cell_type": "code",
      "source": [
        "def fetch_city_temperatures(cities):\n",
        "    # Initializing a list to store city name & its temperature as a tuple.\n",
        "    city_temperatures = []\n",
        "    for city in cities:\n",
        "        try:\n",
        "            response = requests.get(\n",
        "                f\"http://api.weatherapi.com/v1/current.json?key=15fddaef64834a618f484614252606&q={city}\"\n",
        "            )\n",
        "            data = response.json()\n",
        "\n",
        "            # Fetcing City Name\n",
        "            city_name = data['location']['name']\n",
        "\n",
        "            # Fetching that City's Temperature\n",
        "            temperature_c = data['current']['temp_c']\n",
        "\n",
        "            city_temperatures.append((city_name, temperature_c))\n",
        "\n",
        "        # Exception Handling\n",
        "        except requests.exceptions.RequestException as e:\n",
        "            print(f\"Error fetching weather for {city}: {e}\")\n",
        "        except KeyError:\n",
        "            print(f\"Could not retrieve weather data for {city}. Invalid city name?\")\n",
        "    return city_temperatures"
      ],
      "metadata": {
        "id": "VCywjumM9mDh"
      },
      "execution_count": null,
      "outputs": []
    }
  ]
}